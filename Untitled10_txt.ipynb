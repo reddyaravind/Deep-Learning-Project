{
  "nbformat": 4,
  "nbformat_minor": 0,
  "metadata": {
    "colab": {
      "name": "Untitled10.txt",
      "provenance": [],
      "collapsed_sections": [],
      "include_colab_link": true
    },
    "kernelspec": {
      "name": "python3",
      "display_name": "Python 3"
    }
  },
  "cells": [
    {
      "cell_type": "markdown",
      "metadata": {
        "id": "view-in-github",
        "colab_type": "text"
      },
      "source": [
        "<a href=\"https://colab.research.google.com/github/reddyaravind/Deep-Learning-Project/blob/master/Untitled10_txt.ipynb\" target=\"_parent\"><img src=\"https://colab.research.google.com/assets/colab-badge.svg\" alt=\"Open In Colab\"/></a>"
      ]
    },
    {
      "cell_type": "code",
      "metadata": {
        "id": "zkilMAroNRdf",
        "colab_type": "code",
        "colab": {}
      },
      "source": [
        "def fun():\n",
        "  a=input('Enter a value(only intergers) ')\n",
        "  b=input('Enter b value(only integers) ')\n",
        "  if(a.isnumeric()==False&b.isnumeric()==False):\n",
        "    print('Please enter numeric values')\n",
        "    \n",
        "  else:\n",
        "     a=int(a)\n",
        "     b=int(b)\n",
        "     print('Addition of two number ',a+b)\n",
        "     print('Subtraction of two numbers ',a-b)\n",
        "     print('Multiplication of two numbers ',a*b)\n",
        "     if(b==0):\n",
        "       print('Division is not possible')\n",
        "     else:\n",
        "        print('Division of two numbers ',a/b)"
      ],
      "execution_count": 0,
      "outputs": []
    },
    {
      "cell_type": "code",
      "metadata": {
        "id": "KZfPwA5zNUI1",
        "colab_type": "code",
        "outputId": "ea3832b8-ce70-4cbe-95b2-88c71fc581d7",
        "colab": {
          "base_uri": "https://localhost:8080/",
          "height": 105
        }
      },
      "source": [
        "while(1):\n",
        "  c=input(\"enter values(1 to run function and any other to exit function) \")\n",
        "  c=int(c)\n",
        "  if(c==1):\n",
        "    fun()\n",
        "  else:\n",
        "    break\n",
        "\n"
      ],
      "execution_count": 0,
      "outputs": [
        {
          "output_type": "stream",
          "text": [
            "enter values(1 to run function and 0 to exit function) 1\n",
            "Enter a value(only intergers) dsd\n",
            "Enter b value(only integers) 23\n",
            "Please enter numeric values\n",
            "enter values(1 to run function and 0 to exit function) 9\n"
          ],
          "name": "stdout"
        }
      ]
    },
    {
      "cell_type": "code",
      "metadata": {
        "id": "WgKTKOyyNu0l",
        "colab_type": "code",
        "colab": {}
      },
      "source": [
        ""
      ],
      "execution_count": 0,
      "outputs": []
    }
  ]
}