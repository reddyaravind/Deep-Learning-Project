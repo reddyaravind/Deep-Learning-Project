{
  "nbformat": 4,
  "nbformat_minor": 0,
  "metadata": {
    "kernelspec": {
      "display_name": "Python 3",
      "language": "python",
      "name": "python3"
    },
    "language_info": {
      "codemirror_mode": {
        "name": "ipython",
        "version": 3
      },
      "file_extension": ".py",
      "mimetype": "text/x-python",
      "name": "python",
      "nbconvert_exporter": "python",
      "pygments_lexer": "ipython3",
      "version": "3.6.2"
    },
    "colab": {
      "name": "Copy_of_Speech_detection_Assignment_(1).txt",
      "provenance": [],
      "collapsed_sections": [
        "aSl8ZOXjaNqJ"
      ],
      "include_colab_link": true
    }
  },
  "cells": [
    {
      "cell_type": "markdown",
      "metadata": {
        "id": "view-in-github",
        "colab_type": "text"
      },
      "source": [
        "<a href=\"https://colab.research.google.com/github/reddyaravind/Deep-Learning-Project/blob/master/Copy_of_Speech_detection_Assignment_(1)_txt.ipynb\" target=\"_parent\"><img src=\"https://colab.research.google.com/assets/colab-badge.svg\" alt=\"Open In Colab\"/></a>"
      ]
    },
    {
      "cell_type": "markdown",
      "metadata": {
        "id": "ZwoTWIysaNmc",
        "colab_type": "text"
      },
      "source": [
        "<pre><font size=6>Spoken Digit Recognition</font></pre>"
      ]
    },
    {
      "cell_type": "markdown",
      "metadata": {
        "id": "rPO3mjDDaNmf",
        "colab_type": "text"
      },
      "source": [
        "<pre>\n",
        "In this notebook, You will do Spoken Digit Recognition. \n",
        "\n",
        "Input - speech signal, output - digit number\n",
        "\n",
        "\n",
        "\n",
        "It contains  \n",
        "\n",
        "1. Reading the dataset. and Preprocess the data set. Detailed instrctions are given below. You have to write the code in the same cell which contains the instrction. \n",
        "2. Training the LSTM with RAW data\n",
        "3. Converting to spectrogram and Training the LSTM network\n",
        "4. Creating the augmented data and doing step 2 and 3 again.  \n",
        "\n",
        "<font size=5>instructions:</font>\n",
        "\n",
        "    1. Don't change any Grader Functions. Don't manipulate any Grader functions. If you manipulate any, it will be considered as plagiarised. \n",
        "    \n",
        "    2. Please read the instructions on the code cells and markdown cells. We will explain what to write. \n",
        "    \n",
        "    3. please return outputs in the same format what we asked. Eg. Don't return List of we are asking for a numpy array.\n",
        "    \n",
        "    4. Please read the external links that we are given so that you will learn the concept behind the code that you are writing.\n",
        "    \n",
        "    5. We are giving instructions at each section if necessary, please follow them. \n",
        "\n",
        "<font size=5>Every Grader function has to return True. </font>\n",
        "\n",
        "</pre>"
      ]
    },
    {
      "cell_type": "code",
      "metadata": {
        "id": "_qGuPcj-aNmh",
        "colab_type": "code",
        "colab": {}
      },
      "source": [
        "import numpy as np\n",
        "import pandas as pd\n",
        "import librosa\n",
        "import os\n",
        "##if you need any imports you can do that here. "
      ],
      "execution_count": 0,
      "outputs": []
    },
    {
      "cell_type": "code",
      "metadata": {
        "id": "HZTDARHNtueT",
        "colab_type": "code",
        "outputId": "90ef7640-8945-4b68-a19f-0a395c6e8b3b",
        "colab": {
          "base_uri": "https://localhost:8080/",
          "height": 125
        }
      },
      "source": [
        "from google.colab import drive\n",
        "\n",
        "drive.mount('/content/drive')"
      ],
      "execution_count": 0,
      "outputs": [
        {
          "output_type": "stream",
          "text": [
            "Go to this URL in a browser: https://accounts.google.com/o/oauth2/auth?client_id=947318989803-6bn6qk8qdgf4n4g3pfee6491hc0brc4i.apps.googleusercontent.com&redirect_uri=urn%3aietf%3awg%3aoauth%3a2.0%3aoob&response_type=code&scope=email%20https%3a%2f%2fwww.googleapis.com%2fauth%2fdocs.test%20https%3a%2f%2fwww.googleapis.com%2fauth%2fdrive%20https%3a%2f%2fwww.googleapis.com%2fauth%2fdrive.photos.readonly%20https%3a%2f%2fwww.googleapis.com%2fauth%2fpeopleapi.readonly\n",
            "\n",
            "Enter your authorization code:\n",
            "··········\n",
            "Mounted at /content/drive\n"
          ],
          "name": "stdout"
        }
      ]
    },
    {
      "cell_type": "code",
      "metadata": {
        "id": "-c5VDCJEtxnX",
        "colab_type": "code",
        "colab": {}
      },
      "source": [
        "import os\n",
        "os.chdir(\"drive/My Drive/spoken\")"
      ],
      "execution_count": 0,
      "outputs": []
    },
    {
      "cell_type": "code",
      "metadata": {
        "id": "K45hbGNXonOB",
        "colab_type": "code",
        "outputId": "bc150aa7-9a47-439c-ec68-e2200ec18b6b",
        "colab": {
          "base_uri": "https://localhost:8080/",
          "height": 34
        }
      },
      "source": [
        "ls"
      ],
      "execution_count": 0,
      "outputs": [
        {
          "output_type": "stream",
          "text": [
            " audio.csv  'Copy of recordings.zip'\n"
          ],
          "name": "stdout"
        }
      ]
    },
    {
      "cell_type": "code",
      "metadata": {
        "id": "cNUJYIM8t7TV",
        "colab_type": "code",
        "outputId": "4e627a2a-4313-4446-a7b5-9d9f5515aa4e",
        "colab": {
          "base_uri": "https://localhost:8080/",
          "height": 105
        }
      },
      "source": [
        "!pip install patool"
      ],
      "execution_count": 0,
      "outputs": [
        {
          "output_type": "stream",
          "text": [
            "Collecting patool\n",
            "\u001b[?25l  Downloading https://files.pythonhosted.org/packages/43/94/52243ddff508780dd2d8110964320ab4851134a55ab102285b46e740f76a/patool-1.12-py2.py3-none-any.whl (77kB)\n",
            "\r\u001b[K     |████▎                           | 10kB 17.2MB/s eta 0:00:01\r\u001b[K     |████████▌                       | 20kB 2.2MB/s eta 0:00:01\r\u001b[K     |████████████▊                   | 30kB 2.7MB/s eta 0:00:01\r\u001b[K     |█████████████████               | 40kB 3.1MB/s eta 0:00:01\r\u001b[K     |█████████████████████▏          | 51kB 2.6MB/s eta 0:00:01\r\u001b[K     |█████████████████████████▍      | 61kB 2.8MB/s eta 0:00:01\r\u001b[K     |█████████████████████████████▋  | 71kB 3.1MB/s eta 0:00:01\r\u001b[K     |████████████████████████████████| 81kB 2.7MB/s \n",
            "\u001b[?25hInstalling collected packages: patool\n",
            "Successfully installed patool-1.12\n"
          ],
          "name": "stdout"
        }
      ]
    },
    {
      "cell_type": "code",
      "metadata": {
        "id": "OA8-0WfkFbQv",
        "colab_type": "code",
        "outputId": "8648f87b-d3d3-429b-8a5e-68ce089b16c5",
        "colab": {
          "base_uri": "https://localhost:8080/",
          "height": 34
        }
      },
      "source": [
        "ls"
      ],
      "execution_count": 0,
      "outputs": [
        {
          "output_type": "stream",
          "text": [
            " audio.csv  'Copy of recordings.zip'   \u001b[0m\u001b[01;34mrecordings\u001b[0m/\n"
          ],
          "name": "stdout"
        }
      ]
    },
    {
      "cell_type": "code",
      "metadata": {
        "id": "P3eXQcqit-_X",
        "colab_type": "code",
        "outputId": "c9fbe8dc-9acc-4f3c-8f7a-9398d145907e",
        "colab": {
          "base_uri": "https://localhost:8080/",
          "height": 87
        }
      },
      "source": [
        "import patoolib\n",
        "patoolib.extract_archive('Copy of recordings.zip')"
      ],
      "execution_count": 0,
      "outputs": [
        {
          "output_type": "stream",
          "text": [
            "patool: Extracting Copy of recordings.zip ...\n",
            "patool: running /usr/bin/7z x -o./Unpack_oc2j8bkt -- \"Copy of recordings.zip\"\n",
            "patool: ... Copy of recordings.zip extracted to `recordings'.\n"
          ],
          "name": "stdout"
        },
        {
          "output_type": "execute_result",
          "data": {
            "text/plain": [
              "'recordings'"
            ]
          },
          "metadata": {
            "tags": []
          },
          "execution_count": 7
        }
      ]
    },
    {
      "cell_type": "code",
      "metadata": {
        "id": "kD2MAiUmuC_E",
        "colab_type": "code",
        "outputId": "36b48b7f-0841-4ea5-884a-5c0c1d919b93",
        "colab": {
          "base_uri": "https://localhost:8080/",
          "height": 34
        }
      },
      "source": [
        "ls"
      ],
      "execution_count": 0,
      "outputs": [
        {
          "output_type": "stream",
          "text": [
            "\u001b[0m\u001b[01;34m'Copy of recordings'\u001b[0m/  'Copy of recordings.zip'   \u001b[01;34mrecordings\u001b[0m/\n"
          ],
          "name": "stdout"
        }
      ]
    },
    {
      "cell_type": "markdown",
      "metadata": {
        "id": "PdhFzGK1aNmo",
        "colab_type": "text"
      },
      "source": [
        "We shared recordings.zip, please unzip those. "
      ]
    },
    {
      "cell_type": "code",
      "metadata": {
        "id": "HDBcl_PUaNmp",
        "colab_type": "code",
        "colab": {}
      },
      "source": [
        "#read the all file names in the recordings folder given by us\n",
        "#(if you get entire path, it is very useful in future)\n",
        "#save those files names as list in \"all_files\"\n",
        "mypath = 'recordings'\n",
        "\n",
        "from os import listdir\n",
        "from os.path import isfile, join\n",
        "all_files = [f for f in listdir(mypath) if isfile(join(mypath, f))]"
      ],
      "execution_count": 0,
      "outputs": []
    },
    {
      "cell_type": "code",
      "metadata": {
        "id": "NABJDX7dHwUQ",
        "colab_type": "code",
        "outputId": "0339194e-9926-43d8-9413-c2b35a171fda",
        "colab": {
          "base_uri": "https://localhost:8080/",
          "height": 176
        }
      },
      "source": [
        "all_files[:9]"
      ],
      "execution_count": 0,
      "outputs": [
        {
          "output_type": "execute_result",
          "data": {
            "text/plain": [
              "['0_jackson_0.wav',\n",
              " '0_jackson_1.wav',\n",
              " '0_jackson_10.wav',\n",
              " '0_jackson_11.wav',\n",
              " '0_jackson_12.wav',\n",
              " '0_jackson_13.wav',\n",
              " '0_jackson_14.wav',\n",
              " '0_jackson_15.wav',\n",
              " '0_jackson_16.wav']"
            ]
          },
          "metadata": {
            "tags": []
          },
          "execution_count": 10
        }
      ]
    },
    {
      "cell_type": "markdown",
      "metadata": {
        "id": "8NYYpfqoaNmv",
        "colab_type": "text"
      },
      "source": [
        "<font size=4>Grader function 1 </font>"
      ]
    },
    {
      "cell_type": "code",
      "metadata": {
        "id": "2oJSOmYBaNmx",
        "colab_type": "code",
        "outputId": "4c9c503d-5b5d-4b34-8ccb-db407d1ad464",
        "colab": {
          "base_uri": "https://localhost:8080/",
          "height": 34
        }
      },
      "source": [
        "def grader_files():\n",
        "    temp = len(all_files)==2000\n",
        "    temp1 = all([x[-3:]==\"wav\" for x in all_files])\n",
        "    temp = temp and temp1\n",
        "    return temp\n",
        "grader_files()"
      ],
      "execution_count": 0,
      "outputs": [
        {
          "output_type": "execute_result",
          "data": {
            "text/plain": [
              "True"
            ]
          },
          "metadata": {
            "tags": []
          },
          "execution_count": 11
        }
      ]
    },
    {
      "cell_type": "markdown",
      "metadata": {
        "id": "MhvSIN6raNm3",
        "colab_type": "text"
      },
      "source": [
        "Create a dataframe(name=df_audio) with two columns(path, label).   \n",
        "You can get the label from the first letter of name.  \n",
        "Eg: 0_jackson_0 --> 0  \n",
        "0_jackson_43 --> 0"
      ]
    },
    {
      "cell_type": "code",
      "metadata": {
        "id": "fWP6vXBeaNm3",
        "colab_type": "code",
        "colab": {}
      },
      "source": [
        "#Create a dataframe(name=df_audio) with two columns(path, label).   \n",
        "#You can get the label from the first letter of name.  \n",
        "#Eg: 0_jackson_0 --> 0  \n",
        "#0_jackson_43 --> 0\n",
        "l=list(all_files)\n",
        "l\n",
        "g=[]\n",
        "for i in range(len(l)):\n",
        "  s=l[i]\n",
        "  g.append(int(s[0]))"
      ],
      "execution_count": 0,
      "outputs": []
    },
    {
      "cell_type": "code",
      "metadata": {
        "id": "MLaxmPTKueMo",
        "colab_type": "code",
        "colab": {}
      },
      "source": [
        "rows = [\"recordings/\"+l[i] for i in range(len(l))]\n"
      ],
      "execution_count": 0,
      "outputs": []
    },
    {
      "cell_type": "code",
      "metadata": {
        "id": "oOYGLbQnvS67",
        "colab_type": "code",
        "colab": {}
      },
      "source": [
        "df_audio = pd.DataFrame(rows,columns=['path'])"
      ],
      "execution_count": 0,
      "outputs": []
    },
    {
      "cell_type": "code",
      "metadata": {
        "id": "nc8D9RByv55w",
        "colab_type": "code",
        "outputId": "cb028270-a1ec-4cf4-eb9b-522e73a45d9a",
        "colab": {
          "base_uri": "https://localhost:8080/",
          "height": 194
        }
      },
      "source": [
        "df_audio['label'] = g\n",
        "print(df_audio.info())"
      ],
      "execution_count": 0,
      "outputs": [
        {
          "output_type": "stream",
          "text": [
            "<class 'pandas.core.frame.DataFrame'>\n",
            "RangeIndex: 2000 entries, 0 to 1999\n",
            "Data columns (total 2 columns):\n",
            " #   Column  Non-Null Count  Dtype \n",
            "---  ------  --------------  ----- \n",
            " 0   path    2000 non-null   object\n",
            " 1   label   2000 non-null   int64 \n",
            "dtypes: int64(1), object(1)\n",
            "memory usage: 31.4+ KB\n",
            "None\n"
          ],
          "name": "stdout"
        }
      ]
    },
    {
      "cell_type": "code",
      "metadata": {
        "id": "06rvadVuwavG",
        "colab_type": "code",
        "colab": {}
      },
      "source": [
        "df_audio.to_csv('audio.csv',index=False)"
      ],
      "execution_count": 0,
      "outputs": []
    },
    {
      "cell_type": "code",
      "metadata": {
        "id": "5ZpuaGuJaNm8",
        "colab_type": "code",
        "outputId": "df383612-e11e-4ce3-86ae-ee1b2f0b86f0",
        "colab": {
          "base_uri": "https://localhost:8080/",
          "height": 176
        }
      },
      "source": [
        "#info\n",
        "df_audio.info()"
      ],
      "execution_count": 0,
      "outputs": [
        {
          "output_type": "stream",
          "text": [
            "<class 'pandas.core.frame.DataFrame'>\n",
            "RangeIndex: 2000 entries, 0 to 1999\n",
            "Data columns (total 2 columns):\n",
            " #   Column  Non-Null Count  Dtype \n",
            "---  ------  --------------  ----- \n",
            " 0   path    2000 non-null   object\n",
            " 1   label   2000 non-null   int64 \n",
            "dtypes: int64(1), object(1)\n",
            "memory usage: 31.4+ KB\n"
          ],
          "name": "stdout"
        }
      ]
    },
    {
      "cell_type": "markdown",
      "metadata": {
        "id": "VOKpYJ_LaNnD",
        "colab_type": "text"
      },
      "source": [
        "<font size=4>Grader function 2 </font>"
      ]
    },
    {
      "cell_type": "code",
      "metadata": {
        "id": "7Q8r_T8-aNnE",
        "colab_type": "code",
        "outputId": "d95bc174-ce8d-42de-f985-b11dabf74372",
        "colab": {
          "base_uri": "https://localhost:8080/",
          "height": 34
        }
      },
      "source": [
        "def grader_df():\n",
        "    flag_shape = df_audio.shape==(2000,2)\n",
        "    flag_columns = all(df_audio.columns==['path', 'label'])\n",
        "    list_values = list(df_audio.label.value_counts())\n",
        "    flag_label = len(list_values)==10\n",
        "    flag_label2 = all([i==200 for i in list_values])\n",
        "    final_flag = flag_shape and flag_columns and flag_label and flag_label2\n",
        "    return final_flag\n",
        "grader_df()"
      ],
      "execution_count": 0,
      "outputs": [
        {
          "output_type": "execute_result",
          "data": {
            "text/plain": [
              "True"
            ]
          },
          "metadata": {
            "tags": []
          },
          "execution_count": 18
        }
      ]
    },
    {
      "cell_type": "code",
      "metadata": {
        "id": "PlfssCc3aNnL",
        "colab_type": "code",
        "colab": {}
      },
      "source": [
        "from sklearn.utils import shuffle\n",
        "df_audio = shuffle(df_audio, random_state=33)#don't change the random state"
      ],
      "execution_count": 0,
      "outputs": []
    },
    {
      "cell_type": "markdown",
      "metadata": {
        "id": "PZ448aENaNnR",
        "colab_type": "text"
      },
      "source": [
        "<pre><font size=4>Train and Validation split</font></pre>"
      ]
    },
    {
      "cell_type": "code",
      "metadata": {
        "id": "vSPy-Ln6aNnS",
        "colab_type": "code",
        "colab": {}
      },
      "source": [
        "#split the data into train and validation and save in X_train, X_test, y_train, y_test\n",
        "#use stratify sampling\n",
        "#use random state of 45\n",
        "#use test size of 30%\n",
        "X = df_audio['path']\n",
        "y = df_audio['label']\n",
        "from sklearn.model_selection import train_test_split\n",
        "X_train, X_test, y_train, y_test = train_test_split(X, y,stratify=y,test_size=0.30,random_state=42)\n"
      ],
      "execution_count": 0,
      "outputs": []
    },
    {
      "cell_type": "markdown",
      "metadata": {
        "id": "YPK3sbzUaNnW",
        "colab_type": "text"
      },
      "source": [
        "<font size=4>Grader function 3 </font>"
      ]
    },
    {
      "cell_type": "code",
      "metadata": {
        "id": "chZzntKUaNnX",
        "colab_type": "code",
        "outputId": "2350128c-52d7-4ed2-9750-d31f573972da",
        "colab": {
          "base_uri": "https://localhost:8080/",
          "height": 34
        }
      },
      "source": [
        "def grader_split():\n",
        "    flag_len = (len(X_train)==1400) and (len(X_test)==600) and (len(y_train)==1400) and (len(y_test)==600)\n",
        "    values_ytrain = list(y_train.value_counts())\n",
        "    flag_ytrain = (len(values_ytrain)==10) and (all([i==140 for i in values_ytrain]))\n",
        "    values_ytest = list(y_test.value_counts())\n",
        "    flag_ytest = (len(values_ytest)==10) and (all([i==60 for i in values_ytest]))\n",
        "    final_flag = flag_len and flag_ytrain and flag_ytest\n",
        "    return final_flag\n",
        "grader_split()"
      ],
      "execution_count": 0,
      "outputs": [
        {
          "output_type": "execute_result",
          "data": {
            "text/plain": [
              "True"
            ]
          },
          "metadata": {
            "tags": []
          },
          "execution_count": 21
        }
      ]
    },
    {
      "cell_type": "markdown",
      "metadata": {
        "id": "LGhh-39vaNnb",
        "colab_type": "text"
      },
      "source": [
        "<pre><font size=4>Preprocessing</font>\n",
        "\n",
        "All files are in the \"WAV\" format. We will read those raw data files using the librosa</pre>"
      ]
    },
    {
      "cell_type": "code",
      "metadata": {
        "id": "i99JacQSaNnc",
        "colab_type": "code",
        "colab": {}
      },
      "source": [
        "sample_rate = 22050\n",
        "def load_wav(x, get_duration=True):\n",
        "    '''This return the array values of audio with sampling rate of 22050 and Duration'''\n",
        "    #loading the wav file with sampling rate of 22050\n",
        "    samples, sample_rate = librosa.load(x, sr=22050)\n",
        "    if get_duration:\n",
        "        duration = librosa.get_duration(samples, sample_rate)\n",
        "        return [samples, duration]\n",
        "    else:\n",
        "        return samples"
      ],
      "execution_count": 0,
      "outputs": []
    },
    {
      "cell_type": "code",
      "metadata": {
        "id": "roG6aYQZ2VBV",
        "colab_type": "code",
        "outputId": "a40c4313-ad6f-4add-aa04-65fcd0eb05fb",
        "colab": {
          "base_uri": "https://localhost:8080/",
          "height": 123
        }
      },
      "source": [
        "X_train.head()"
      ],
      "execution_count": 0,
      "outputs": [
        {
          "output_type": "execute_result",
          "data": {
            "text/plain": [
              "989     recordings/4_yweweler_44.wav\n",
              "1568    recordings/7_yweweler_25.wav\n",
              "984      recordings/4_yweweler_4.wav\n",
              "1715        recordings/8_theo_22.wav\n",
              "1153    recordings/5_yweweler_11.wav\n",
              "Name: path, dtype: object"
            ]
          },
          "metadata": {
            "tags": []
          },
          "execution_count": 23
        }
      ]
    },
    {
      "cell_type": "code",
      "metadata": {
        "id": "Rx97f8GGaNnh",
        "colab_type": "code",
        "outputId": "aaebf9f4-42ef-476d-9bc2-20a3546b357b",
        "colab": {
          "base_uri": "https://localhost:8080/",
          "height": 34
        }
      },
      "source": [
        "#use load_wav function that was written above to get every wave. \n",
        "#save it in X_train_processed and X_test_processed\n",
        "# X_train_processed/X_test_processed should be dataframes with two columns(raw_data, duration) with same index of X_train/y_train\n",
        "from tqdm import tqdm\n",
        "p=[]\n",
        "q=[]\n",
        "\n",
        "for i in tqdm(X_train):\n",
        "  r=load_wav(i)\n",
        "  p.append(r[0])\n",
        "  q.append(r[1])"
      ],
      "execution_count": 0,
      "outputs": [
        {
          "output_type": "stream",
          "text": [
            "100%|██████████| 1400/1400 [02:45<00:00,  8.44it/s]\n"
          ],
          "name": "stderr"
        }
      ]
    },
    {
      "cell_type": "code",
      "metadata": {
        "id": "7Q5XR2WK5zoa",
        "colab_type": "code",
        "outputId": "8e2d5904-41cc-4df8-f068-62ea451e9ec9",
        "colab": {
          "base_uri": "https://localhost:8080/",
          "height": 52
        }
      },
      "source": [
        "print(len(p))\n",
        "print(len(q))"
      ],
      "execution_count": 0,
      "outputs": [
        {
          "output_type": "stream",
          "text": [
            "1400\n",
            "1400\n"
          ],
          "name": "stdout"
        }
      ]
    },
    {
      "cell_type": "code",
      "metadata": {
        "id": "jHrSyI4pcm7u",
        "colab_type": "code",
        "colab": {}
      },
      "source": [
        "X_train_processed = pd.DataFrame(q,columns=['duration1'])"
      ],
      "execution_count": 0,
      "outputs": []
    },
    {
      "cell_type": "code",
      "metadata": {
        "id": "kQOBdK1P37ul",
        "colab_type": "code",
        "colab": {}
      },
      "source": [
        "X_train_processed['raw_data'] = p"
      ],
      "execution_count": 0,
      "outputs": []
    },
    {
      "cell_type": "code",
      "metadata": {
        "id": "V61Ye31tFskX",
        "colab_type": "code",
        "colab": {}
      },
      "source": [
        "X_train_processed['duration'] = q\n",
        "X_train_processed.drop(columns=['duration1'],inplace=True)"
      ],
      "execution_count": 0,
      "outputs": []
    },
    {
      "cell_type": "code",
      "metadata": {
        "id": "uCs90ZS5GAsm",
        "colab_type": "code",
        "outputId": "64ca4b47-4e08-4189-f8c0-ed1ea298ee3a",
        "colab": {
          "base_uri": "https://localhost:8080/",
          "height": 197
        }
      },
      "source": [
        "X_train_processed.head()"
      ],
      "execution_count": 0,
      "outputs": [
        {
          "output_type": "execute_result",
          "data": {
            "text/html": [
              "<div>\n",
              "<style scoped>\n",
              "    .dataframe tbody tr th:only-of-type {\n",
              "        vertical-align: middle;\n",
              "    }\n",
              "\n",
              "    .dataframe tbody tr th {\n",
              "        vertical-align: top;\n",
              "    }\n",
              "\n",
              "    .dataframe thead th {\n",
              "        text-align: right;\n",
              "    }\n",
              "</style>\n",
              "<table border=\"1\" class=\"dataframe\">\n",
              "  <thead>\n",
              "    <tr style=\"text-align: right;\">\n",
              "      <th></th>\n",
              "      <th>raw_data</th>\n",
              "      <th>duration</th>\n",
              "    </tr>\n",
              "  </thead>\n",
              "  <tbody>\n",
              "    <tr>\n",
              "      <th>0</th>\n",
              "      <td>[-1.8207456e-05, -8.338033e-05, -0.00010331021...</td>\n",
              "      <td>0.363900</td>\n",
              "    </tr>\n",
              "    <tr>\n",
              "      <th>1</th>\n",
              "      <td>[9.6588104e-05, 0.00012566414, 0.00016156163, ...</td>\n",
              "      <td>0.314785</td>\n",
              "    </tr>\n",
              "    <tr>\n",
              "      <th>2</th>\n",
              "      <td>[-0.00027579028, -0.00031114486, -0.000292675,...</td>\n",
              "      <td>0.349660</td>\n",
              "    </tr>\n",
              "    <tr>\n",
              "      <th>3</th>\n",
              "      <td>[0.00021909502, 0.0002477661, 0.00026524728, 0...</td>\n",
              "      <td>0.566893</td>\n",
              "    </tr>\n",
              "    <tr>\n",
              "      <th>4</th>\n",
              "      <td>[-4.8777634e-05, -8.546371e-05, -0.0001339433,...</td>\n",
              "      <td>0.509025</td>\n",
              "    </tr>\n",
              "  </tbody>\n",
              "</table>\n",
              "</div>"
            ],
            "text/plain": [
              "                                            raw_data  duration\n",
              "0  [-1.8207456e-05, -8.338033e-05, -0.00010331021...  0.363900\n",
              "1  [9.6588104e-05, 0.00012566414, 0.00016156163, ...  0.314785\n",
              "2  [-0.00027579028, -0.00031114486, -0.000292675,...  0.349660\n",
              "3  [0.00021909502, 0.0002477661, 0.00026524728, 0...  0.566893\n",
              "4  [-4.8777634e-05, -8.546371e-05, -0.0001339433,...  0.509025"
            ]
          },
          "metadata": {
            "tags": []
          },
          "execution_count": 30
        }
      ]
    },
    {
      "cell_type": "code",
      "metadata": {
        "id": "Qv7SbjFD4UgP",
        "colab_type": "code",
        "outputId": "255f9f3a-efe5-41fd-e6be-6d1ef640076a",
        "colab": {
          "base_uri": "https://localhost:8080/",
          "height": 406
        }
      },
      "source": [
        "X_train_processed"
      ],
      "execution_count": 0,
      "outputs": [
        {
          "output_type": "execute_result",
          "data": {
            "text/html": [
              "<div>\n",
              "<style scoped>\n",
              "    .dataframe tbody tr th:only-of-type {\n",
              "        vertical-align: middle;\n",
              "    }\n",
              "\n",
              "    .dataframe tbody tr th {\n",
              "        vertical-align: top;\n",
              "    }\n",
              "\n",
              "    .dataframe thead th {\n",
              "        text-align: right;\n",
              "    }\n",
              "</style>\n",
              "<table border=\"1\" class=\"dataframe\">\n",
              "  <thead>\n",
              "    <tr style=\"text-align: right;\">\n",
              "      <th></th>\n",
              "      <th>raw_data</th>\n",
              "      <th>duration</th>\n",
              "    </tr>\n",
              "  </thead>\n",
              "  <tbody>\n",
              "    <tr>\n",
              "      <th>0</th>\n",
              "      <td>[-0.009269679, -0.011040739, -0.011115616, -0....</td>\n",
              "      <td>0.354785</td>\n",
              "    </tr>\n",
              "    <tr>\n",
              "      <th>1</th>\n",
              "      <td>[-0.009851627, -0.008452921, -0.003044404, 0.0...</td>\n",
              "      <td>0.445896</td>\n",
              "    </tr>\n",
              "    <tr>\n",
              "      <th>2</th>\n",
              "      <td>[-0.012617145, -0.01605257, -0.017966507, -0.0...</td>\n",
              "      <td>0.418413</td>\n",
              "    </tr>\n",
              "    <tr>\n",
              "      <th>3</th>\n",
              "      <td>[-0.00012653804, -3.3330307e-05, -2.5187115e-0...</td>\n",
              "      <td>0.392789</td>\n",
              "    </tr>\n",
              "    <tr>\n",
              "      <th>4</th>\n",
              "      <td>[-0.000121868594, -8.978564e-05, 5.733162e-05,...</td>\n",
              "      <td>0.267392</td>\n",
              "    </tr>\n",
              "    <tr>\n",
              "      <th>...</th>\n",
              "      <td>...</td>\n",
              "      <td>...</td>\n",
              "    </tr>\n",
              "    <tr>\n",
              "      <th>1395</th>\n",
              "      <td>[-0.0070513487, -0.0041882945, -0.0012617813, ...</td>\n",
              "      <td>0.392018</td>\n",
              "    </tr>\n",
              "    <tr>\n",
              "      <th>1396</th>\n",
              "      <td>[-0.012323444, -0.008986321, -0.002643211, 0.0...</td>\n",
              "      <td>0.513515</td>\n",
              "    </tr>\n",
              "    <tr>\n",
              "      <th>1397</th>\n",
              "      <td>[0.009109144, 0.011248282, 0.0117724165, 0.011...</td>\n",
              "      <td>0.396145</td>\n",
              "    </tr>\n",
              "    <tr>\n",
              "      <th>1398</th>\n",
              "      <td>[0.013607119, 0.013330661, 0.008891772, 0.0031...</td>\n",
              "      <td>0.487755</td>\n",
              "    </tr>\n",
              "    <tr>\n",
              "      <th>1399</th>\n",
              "      <td>[-0.00016068408, -0.0002135562, -0.00032534823...</td>\n",
              "      <td>0.227392</td>\n",
              "    </tr>\n",
              "  </tbody>\n",
              "</table>\n",
              "<p>1400 rows × 2 columns</p>\n",
              "</div>"
            ],
            "text/plain": [
              "                                               raw_data  duration\n",
              "0     [-0.009269679, -0.011040739, -0.011115616, -0....  0.354785\n",
              "1     [-0.009851627, -0.008452921, -0.003044404, 0.0...  0.445896\n",
              "2     [-0.012617145, -0.01605257, -0.017966507, -0.0...  0.418413\n",
              "3     [-0.00012653804, -3.3330307e-05, -2.5187115e-0...  0.392789\n",
              "4     [-0.000121868594, -8.978564e-05, 5.733162e-05,...  0.267392\n",
              "...                                                 ...       ...\n",
              "1395  [-0.0070513487, -0.0041882945, -0.0012617813, ...  0.392018\n",
              "1396  [-0.012323444, -0.008986321, -0.002643211, 0.0...  0.513515\n",
              "1397  [0.009109144, 0.011248282, 0.0117724165, 0.011...  0.396145\n",
              "1398  [0.013607119, 0.013330661, 0.008891772, 0.0031...  0.487755\n",
              "1399  [-0.00016068408, -0.0002135562, -0.00032534823...  0.227392\n",
              "\n",
              "[1400 rows x 2 columns]"
            ]
          },
          "metadata": {
            "tags": []
          },
          "execution_count": 44
        }
      ]
    },
    {
      "cell_type": "code",
      "metadata": {
        "id": "HZUhTZUO1G44",
        "colab_type": "code",
        "outputId": "56294761-0fd8-45f2-bf1c-eb7927c732f1",
        "colab": {
          "base_uri": "https://localhost:8080/",
          "height": 52
        }
      },
      "source": [
        "a=X_train_processed['raw_data']\n",
        "h=a.loc[0]\n",
        "h"
      ],
      "execution_count": 0,
      "outputs": [
        {
          "output_type": "execute_result",
          "data": {
            "text/plain": [
              "array([-1.8207456e-05, -8.3380328e-05, -1.0331021e-04, ...,\n",
              "        4.2008856e-04,  2.3456436e-04,  0.0000000e+00], dtype=float32)"
            ]
          },
          "metadata": {
            "tags": []
          },
          "execution_count": 31
        }
      ]
    },
    {
      "cell_type": "code",
      "metadata": {
        "id": "oJiMPhwD1HF6",
        "colab_type": "code",
        "outputId": "d8306b29-5db5-4a6f-ea5e-9d16e59d8448",
        "colab": {
          "base_uri": "https://localhost:8080/",
          "height": 126
        }
      },
      "source": [
        "h=pd.DataFrame(h)\n",
        "h"
      ],
      "execution_count": 0,
      "outputs": [
        {
          "output_type": "execute_result",
          "data": {
            "text/html": [
              "<div>\n",
              "<style scoped>\n",
              "    .dataframe tbody tr th:only-of-type {\n",
              "        vertical-align: middle;\n",
              "    }\n",
              "\n",
              "    .dataframe tbody tr th {\n",
              "        vertical-align: top;\n",
              "    }\n",
              "\n",
              "    .dataframe thead th {\n",
              "        text-align: right;\n",
              "    }\n",
              "</style>\n",
              "<table border=\"1\" class=\"dataframe\">\n",
              "  <thead>\n",
              "    <tr style=\"text-align: right;\">\n",
              "      <th></th>\n",
              "      <th>0</th>\n",
              "      <th>1</th>\n",
              "      <th>2</th>\n",
              "      <th>3</th>\n",
              "      <th>4</th>\n",
              "      <th>5</th>\n",
              "      <th>6</th>\n",
              "      <th>7</th>\n",
              "      <th>8</th>\n",
              "      <th>9</th>\n",
              "      <th>10</th>\n",
              "      <th>11</th>\n",
              "      <th>12</th>\n",
              "      <th>13</th>\n",
              "      <th>14</th>\n",
              "      <th>15</th>\n",
              "      <th>16</th>\n",
              "      <th>17</th>\n",
              "      <th>18</th>\n",
              "      <th>19</th>\n",
              "      <th>20</th>\n",
              "      <th>21</th>\n",
              "      <th>22</th>\n",
              "      <th>23</th>\n",
              "      <th>24</th>\n",
              "      <th>25</th>\n",
              "      <th>26</th>\n",
              "      <th>27</th>\n",
              "      <th>28</th>\n",
              "      <th>29</th>\n",
              "      <th>30</th>\n",
              "      <th>31</th>\n",
              "      <th>32</th>\n",
              "      <th>33</th>\n",
              "      <th>34</th>\n",
              "      <th>35</th>\n",
              "      <th>36</th>\n",
              "      <th>37</th>\n",
              "      <th>38</th>\n",
              "      <th>39</th>\n",
              "      <th>...</th>\n",
              "      <th>7984</th>\n",
              "      <th>7985</th>\n",
              "      <th>7986</th>\n",
              "      <th>7987</th>\n",
              "      <th>7988</th>\n",
              "      <th>7989</th>\n",
              "      <th>7990</th>\n",
              "      <th>7991</th>\n",
              "      <th>7992</th>\n",
              "      <th>7993</th>\n",
              "      <th>7994</th>\n",
              "      <th>7995</th>\n",
              "      <th>7996</th>\n",
              "      <th>7997</th>\n",
              "      <th>7998</th>\n",
              "      <th>7999</th>\n",
              "      <th>8000</th>\n",
              "      <th>8001</th>\n",
              "      <th>8002</th>\n",
              "      <th>8003</th>\n",
              "      <th>8004</th>\n",
              "      <th>8005</th>\n",
              "      <th>8006</th>\n",
              "      <th>8007</th>\n",
              "      <th>8008</th>\n",
              "      <th>8009</th>\n",
              "      <th>8010</th>\n",
              "      <th>8011</th>\n",
              "      <th>8012</th>\n",
              "      <th>8013</th>\n",
              "      <th>8014</th>\n",
              "      <th>8015</th>\n",
              "      <th>8016</th>\n",
              "      <th>8017</th>\n",
              "      <th>8018</th>\n",
              "      <th>8019</th>\n",
              "      <th>8020</th>\n",
              "      <th>8021</th>\n",
              "      <th>8022</th>\n",
              "      <th>8023</th>\n",
              "    </tr>\n",
              "  </thead>\n",
              "  <tbody>\n",
              "    <tr>\n",
              "      <th>0</th>\n",
              "      <td>-0.000018</td>\n",
              "      <td>-0.000083</td>\n",
              "      <td>-0.000103</td>\n",
              "      <td>-0.000058</td>\n",
              "      <td>0.000013</td>\n",
              "      <td>0.000036</td>\n",
              "      <td>-0.000029</td>\n",
              "      <td>-0.000153</td>\n",
              "      <td>-0.000249</td>\n",
              "      <td>-0.000239</td>\n",
              "      <td>-0.000112</td>\n",
              "      <td>0.000073</td>\n",
              "      <td>0.000229</td>\n",
              "      <td>0.000299</td>\n",
              "      <td>0.000275</td>\n",
              "      <td>0.000185</td>\n",
              "      <td>0.000061</td>\n",
              "      <td>-0.00007</td>\n",
              "      <td>-0.00018</td>\n",
              "      <td>-0.000235</td>\n",
              "      <td>-0.000211</td>\n",
              "      <td>-0.000119</td>\n",
              "      <td>-0.000009</td>\n",
              "      <td>0.000057</td>\n",
              "      <td>0.000058</td>\n",
              "      <td>0.000026</td>\n",
              "      <td>0.00002</td>\n",
              "      <td>0.000075</td>\n",
              "      <td>0.000164</td>\n",
              "      <td>0.000221</td>\n",
              "      <td>0.0002</td>\n",
              "      <td>0.000113</td>\n",
              "      <td>0.000025</td>\n",
              "      <td>0.000007</td>\n",
              "      <td>0.000078</td>\n",
              "      <td>0.000201</td>\n",
              "      <td>0.000307</td>\n",
              "      <td>0.000345</td>\n",
              "      <td>0.000307</td>\n",
              "      <td>0.000221</td>\n",
              "      <td>...</td>\n",
              "      <td>-0.000285</td>\n",
              "      <td>-0.000272</td>\n",
              "      <td>-0.000308</td>\n",
              "      <td>-0.000372</td>\n",
              "      <td>-0.000412</td>\n",
              "      <td>-0.000398</td>\n",
              "      <td>-0.000348</td>\n",
              "      <td>-0.000305</td>\n",
              "      <td>-0.000293</td>\n",
              "      <td>-0.000287</td>\n",
              "      <td>-0.00024</td>\n",
              "      <td>-0.000134</td>\n",
              "      <td>-0.000004</td>\n",
              "      <td>0.000084</td>\n",
              "      <td>0.000085</td>\n",
              "      <td>0.000013</td>\n",
              "      <td>-0.000085</td>\n",
              "      <td>-0.000168</td>\n",
              "      <td>-0.000227</td>\n",
              "      <td>-0.000278</td>\n",
              "      <td>-0.000324</td>\n",
              "      <td>-0.000347</td>\n",
              "      <td>-0.000327</td>\n",
              "      <td>-0.00027</td>\n",
              "      <td>-0.000209</td>\n",
              "      <td>-0.000172</td>\n",
              "      <td>-0.000147</td>\n",
              "      <td>-0.000091</td>\n",
              "      <td>0.000031</td>\n",
              "      <td>0.000206</td>\n",
              "      <td>0.000378</td>\n",
              "      <td>0.000493</td>\n",
              "      <td>0.00054</td>\n",
              "      <td>0.000554</td>\n",
              "      <td>0.000568</td>\n",
              "      <td>0.000578</td>\n",
              "      <td>0.00054</td>\n",
              "      <td>0.00042</td>\n",
              "      <td>0.000235</td>\n",
              "      <td>0.0</td>\n",
              "    </tr>\n",
              "  </tbody>\n",
              "</table>\n",
              "<p>1 rows × 8024 columns</p>\n",
              "</div>"
            ],
            "text/plain": [
              "       0         1         2         3     ...     8020     8021      8022  8023\n",
              "0 -0.000018 -0.000083 -0.000103 -0.000058  ...  0.00054  0.00042  0.000235   0.0\n",
              "\n",
              "[1 rows x 8024 columns]"
            ]
          },
          "metadata": {
            "tags": []
          },
          "execution_count": 43
        }
      ]
    },
    {
      "cell_type": "code",
      "metadata": {
        "id": "ZtapioVWBVmT",
        "colab_type": "code",
        "outputId": "c39a643d-1862-4d3b-fb4d-580405a737d1",
        "colab": {
          "base_uri": "https://localhost:8080/",
          "height": 34
        }
      },
      "source": [
        "p2=[]\n",
        "q2=[]\n",
        "for i in tqdm(X_test):\n",
        "  r1=load_wav(i)\n",
        "  p2.append(r1[0])\n",
        "  q2.append(r1[1])"
      ],
      "execution_count": 0,
      "outputs": [
        {
          "output_type": "stream",
          "text": [
            "100%|██████████| 600/600 [01:13<00:00,  8.11it/s]\n"
          ],
          "name": "stderr"
        }
      ]
    },
    {
      "cell_type": "code",
      "metadata": {
        "id": "YwPuDz7THCFf",
        "colab_type": "code",
        "colab": {}
      },
      "source": [
        "X_test_processed = pd.DataFrame(q2,columns=['duration1'])\n",
        "X_test_processed['raw_data'] = p2"
      ],
      "execution_count": 0,
      "outputs": []
    },
    {
      "cell_type": "code",
      "metadata": {
        "id": "K9uyL1AcHOjU",
        "colab_type": "code",
        "colab": {}
      },
      "source": [
        "X_test_processed['duration'] = q2"
      ],
      "execution_count": 0,
      "outputs": []
    },
    {
      "cell_type": "code",
      "metadata": {
        "id": "938vddGXHVZ9",
        "colab_type": "code",
        "colab": {}
      },
      "source": [
        "X_test_processed.drop(columns=['duration1'],inplace=True)"
      ],
      "execution_count": 0,
      "outputs": []
    },
    {
      "cell_type": "code",
      "metadata": {
        "id": "ulTB7FPmHe23",
        "colab_type": "code",
        "outputId": "538a2093-a1cc-4688-8d63-d42a9f4170d2",
        "colab": {
          "base_uri": "https://localhost:8080/",
          "height": 34
        }
      },
      "source": [
        "X_test_processed.shape"
      ],
      "execution_count": 0,
      "outputs": [
        {
          "output_type": "execute_result",
          "data": {
            "text/plain": [
              "(600, 2)"
            ]
          },
          "metadata": {
            "tags": []
          },
          "execution_count": 37
        }
      ]
    },
    {
      "cell_type": "code",
      "metadata": {
        "id": "WiXaEvG3k_Oc",
        "colab_type": "code",
        "outputId": "a5f77a6a-538f-44ab-9a25-8d9e6d09a9d2",
        "colab": {
          "base_uri": "https://localhost:8080/",
          "height": 126
        }
      },
      "source": [
        "test=X_test_processed['raw_data']\n",
        "test1=test.loc[0]\n",
        "test1=pd.DataFrame(test1)\n",
        "test1=test1.transpose()\n",
        "test1"
      ],
      "execution_count": 0,
      "outputs": [
        {
          "output_type": "execute_result",
          "data": {
            "text/html": [
              "<div>\n",
              "<style scoped>\n",
              "    .dataframe tbody tr th:only-of-type {\n",
              "        vertical-align: middle;\n",
              "    }\n",
              "\n",
              "    .dataframe tbody tr th {\n",
              "        vertical-align: top;\n",
              "    }\n",
              "\n",
              "    .dataframe thead th {\n",
              "        text-align: right;\n",
              "    }\n",
              "</style>\n",
              "<table border=\"1\" class=\"dataframe\">\n",
              "  <thead>\n",
              "    <tr style=\"text-align: right;\">\n",
              "      <th></th>\n",
              "      <th>0</th>\n",
              "      <th>1</th>\n",
              "      <th>2</th>\n",
              "      <th>3</th>\n",
              "      <th>4</th>\n",
              "      <th>5</th>\n",
              "      <th>6</th>\n",
              "      <th>7</th>\n",
              "      <th>8</th>\n",
              "      <th>9</th>\n",
              "      <th>10</th>\n",
              "      <th>11</th>\n",
              "      <th>12</th>\n",
              "      <th>13</th>\n",
              "      <th>14</th>\n",
              "      <th>15</th>\n",
              "      <th>16</th>\n",
              "      <th>17</th>\n",
              "      <th>18</th>\n",
              "      <th>19</th>\n",
              "      <th>20</th>\n",
              "      <th>21</th>\n",
              "      <th>22</th>\n",
              "      <th>23</th>\n",
              "      <th>24</th>\n",
              "      <th>25</th>\n",
              "      <th>26</th>\n",
              "      <th>27</th>\n",
              "      <th>28</th>\n",
              "      <th>29</th>\n",
              "      <th>30</th>\n",
              "      <th>31</th>\n",
              "      <th>32</th>\n",
              "      <th>33</th>\n",
              "      <th>34</th>\n",
              "      <th>35</th>\n",
              "      <th>36</th>\n",
              "      <th>37</th>\n",
              "      <th>38</th>\n",
              "      <th>39</th>\n",
              "      <th>...</th>\n",
              "      <th>6934</th>\n",
              "      <th>6935</th>\n",
              "      <th>6936</th>\n",
              "      <th>6937</th>\n",
              "      <th>6938</th>\n",
              "      <th>6939</th>\n",
              "      <th>6940</th>\n",
              "      <th>6941</th>\n",
              "      <th>6942</th>\n",
              "      <th>6943</th>\n",
              "      <th>6944</th>\n",
              "      <th>6945</th>\n",
              "      <th>6946</th>\n",
              "      <th>6947</th>\n",
              "      <th>6948</th>\n",
              "      <th>6949</th>\n",
              "      <th>6950</th>\n",
              "      <th>6951</th>\n",
              "      <th>6952</th>\n",
              "      <th>6953</th>\n",
              "      <th>6954</th>\n",
              "      <th>6955</th>\n",
              "      <th>6956</th>\n",
              "      <th>6957</th>\n",
              "      <th>6958</th>\n",
              "      <th>6959</th>\n",
              "      <th>6960</th>\n",
              "      <th>6961</th>\n",
              "      <th>6962</th>\n",
              "      <th>6963</th>\n",
              "      <th>6964</th>\n",
              "      <th>6965</th>\n",
              "      <th>6966</th>\n",
              "      <th>6967</th>\n",
              "      <th>6968</th>\n",
              "      <th>6969</th>\n",
              "      <th>6970</th>\n",
              "      <th>6971</th>\n",
              "      <th>6972</th>\n",
              "      <th>6973</th>\n",
              "    </tr>\n",
              "  </thead>\n",
              "  <tbody>\n",
              "    <tr>\n",
              "      <th>0</th>\n",
              "      <td>0.000075</td>\n",
              "      <td>0.000679</td>\n",
              "      <td>0.001166</td>\n",
              "      <td>0.001069</td>\n",
              "      <td>0.000298</td>\n",
              "      <td>-0.000707</td>\n",
              "      <td>-0.00126</td>\n",
              "      <td>-0.000961</td>\n",
              "      <td>-0.000011</td>\n",
              "      <td>0.000942</td>\n",
              "      <td>0.001316</td>\n",
              "      <td>0.001007</td>\n",
              "      <td>0.000386</td>\n",
              "      <td>-0.000092</td>\n",
              "      <td>-0.000267</td>\n",
              "      <td>-0.000317</td>\n",
              "      <td>-0.000474</td>\n",
              "      <td>-0.000743</td>\n",
              "      <td>-0.000922</td>\n",
              "      <td>-0.000864</td>\n",
              "      <td>-0.000685</td>\n",
              "      <td>-0.000663</td>\n",
              "      <td>-0.000915</td>\n",
              "      <td>-0.001206</td>\n",
              "      <td>-0.001134</td>\n",
              "      <td>-0.000537</td>\n",
              "      <td>0.000266</td>\n",
              "      <td>0.000686</td>\n",
              "      <td>0.000365</td>\n",
              "      <td>-0.000478</td>\n",
              "      <td>-0.0012</td>\n",
              "      <td>-0.001265</td>\n",
              "      <td>-0.000668</td>\n",
              "      <td>0.000106</td>\n",
              "      <td>0.000544</td>\n",
              "      <td>0.00053</td>\n",
              "      <td>0.000358</td>\n",
              "      <td>0.000365</td>\n",
              "      <td>0.00056</td>\n",
              "      <td>0.000633</td>\n",
              "      <td>...</td>\n",
              "      <td>-0.00041</td>\n",
              "      <td>-0.000556</td>\n",
              "      <td>-0.000577</td>\n",
              "      <td>-0.000471</td>\n",
              "      <td>-0.000282</td>\n",
              "      <td>-0.000101</td>\n",
              "      <td>-0.000015</td>\n",
              "      <td>-0.000058</td>\n",
              "      <td>-0.000192</td>\n",
              "      <td>-0.000351</td>\n",
              "      <td>-0.000497</td>\n",
              "      <td>-0.000638</td>\n",
              "      <td>-0.000787</td>\n",
              "      <td>-0.000907</td>\n",
              "      <td>-0.000896</td>\n",
              "      <td>-0.000654</td>\n",
              "      <td>-0.000183</td>\n",
              "      <td>0.00037</td>\n",
              "      <td>0.00077</td>\n",
              "      <td>0.000827</td>\n",
              "      <td>0.000516</td>\n",
              "      <td>-0.000016</td>\n",
              "      <td>-0.000544</td>\n",
              "      <td>-0.000906</td>\n",
              "      <td>-0.001073</td>\n",
              "      <td>-0.001115</td>\n",
              "      <td>-0.001097</td>\n",
              "      <td>-0.001005</td>\n",
              "      <td>-0.000764</td>\n",
              "      <td>-0.000327</td>\n",
              "      <td>0.00023</td>\n",
              "      <td>0.000702</td>\n",
              "      <td>0.000867</td>\n",
              "      <td>0.000624</td>\n",
              "      <td>0.000079</td>\n",
              "      <td>-0.000502</td>\n",
              "      <td>-0.000843</td>\n",
              "      <td>-0.000819</td>\n",
              "      <td>-0.000511</td>\n",
              "      <td>0.0</td>\n",
              "    </tr>\n",
              "  </tbody>\n",
              "</table>\n",
              "<p>1 rows × 6974 columns</p>\n",
              "</div>"
            ],
            "text/plain": [
              "       0         1         2         3     ...      6970      6971      6972  6973\n",
              "0  0.000075  0.000679  0.001166  0.001069  ... -0.000843 -0.000819 -0.000511   0.0\n",
              "\n",
              "[1 rows x 6974 columns]"
            ]
          },
          "metadata": {
            "tags": []
          },
          "execution_count": 38
        }
      ]
    },
    {
      "cell_type": "code",
      "metadata": {
        "id": "zpUuiztZk-kM",
        "colab_type": "code",
        "outputId": "eb5e57d6-d5db-4672-fea9-d65fd3c274d7",
        "colab": {
          "base_uri": "https://localhost:8080/",
          "height": 34
        }
      },
      "source": [
        "len(a1.loc[1])"
      ],
      "execution_count": 0,
      "outputs": [
        {
          "output_type": "execute_result",
          "data": {
            "text/plain": [
              "7608"
            ]
          },
          "metadata": {
            "tags": []
          },
          "execution_count": 173
        }
      ]
    },
    {
      "cell_type": "code",
      "metadata": {
        "id": "duQZPQevaNno",
        "colab_type": "code",
        "outputId": "05986007-6321-4b26-99f6-2197b1811a24",
        "colab": {}
      },
      "source": [
        "#plot the histogram of the duration for trian\n"
      ],
      "execution_count": 0,
      "outputs": [
        {
          "output_type": "execute_result",
          "data": {
            "text/plain": [
              "[]"
            ]
          },
          "metadata": {
            "tags": []
          },
          "execution_count": 14
        },
        {
          "output_type": "display_data",
          "data": {
            "image/png": "[encoded data removed]",
            "text/plain": [
              "<Figure size 432x288 with 1 Axes>"
            ]
          },
          "metadata": {
            "tags": [],
            "needs_background": "light"
          }
        }
      ]
    },
    {
      "cell_type": "code",
      "metadata": {
        "id": "wE5SDRzSaNns",
        "colab_type": "code",
        "outputId": "f2501a90-2a43-43db-f02c-1463defe2146",
        "colab": {}
      },
      "source": [
        "#plot the histogram of the duration for trian\n"
      ],
      "execution_count": 0,
      "outputs": [
        {
          "output_type": "execute_result",
          "data": {
            "text/plain": [
              "(array([224., 320.,  50.,   5.,   0.,   0.,   0.,   0.,   0.,   1.]),\n",
              " array([0.14353741, 0.35746032, 0.57138322, 0.78530612, 0.99922902,\n",
              "        1.21315193, 1.42707483, 1.64099773, 1.85492063, 2.06884354,\n",
              "        2.28276644]),\n",
              " <a list of 10 Patch objects>)"
            ]
          },
          "metadata": {
            "tags": []
          },
          "execution_count": 15
        },
        {
          "output_type": "display_data",
          "data": {
            "image/png": "[encoded data removed]",
            "text/plain": [
              "<Figure size 432x288 with 1 Axes>"
            ]
          },
          "metadata": {
            "tags": [],
            "needs_background": "light"
          }
        }
      ]
    },
    {
      "cell_type": "code",
      "metadata": {
        "id": "vvLhm1AqaNny",
        "colab_type": "code",
        "outputId": "a4430992-0f16-4d24-de92-0a6fcec1df06",
        "colab": {}
      },
      "source": [
        "#print 0 to 100 percentile values with step size of 10 for train data duration. \n"
      ],
      "execution_count": 0,
      "outputs": [
        {
          "output_type": "stream",
          "text": [
            "0 th percentile is 0.16104308390022676\n",
            "10 th percentile is 0.25848072562358276\n",
            "20 th percentile is 0.2974331065759637\n",
            "30 th percentile is 0.3297777777777778\n",
            "40 th percentile is 0.3569160997732426\n",
            "50 th percentile is 0.38945578231292516\n",
            "60 th percentile is 0.41328798185941046\n",
            "70 th percentile is 0.4444671201814059\n",
            "80 th percentile is 0.4826848072562358\n",
            "90 th percentile is 0.5531655328798186\n",
            "100 th percentile is 2.195918367346939\n"
          ],
          "name": "stdout"
        }
      ]
    },
    {
      "cell_type": "code",
      "metadata": {
        "id": "rSlVQh4CaNn2",
        "colab_type": "code",
        "outputId": "d6970436-db83-4d01-c910-7ebe92baab41",
        "colab": {}
      },
      "source": [
        "##print 90 to 100 percentile values with step size of 1. \n"
      ],
      "execution_count": 0,
      "outputs": [
        {
          "output_type": "stream",
          "text": [
            "90 th percentile is 0.5531655328798186\n",
            "91 th percentile is 0.5669832199546486\n",
            "92 th percentile is 0.5790349206349206\n",
            "93 th percentile is 0.599510657596372\n",
            "94 th percentile is 0.611208163265306\n",
            "95 th percentile is 0.6316009070294784\n",
            "96 th percentile is 0.6431455782312925\n",
            "97 th percentile is 0.6635741496598639\n",
            "98 th percentile is 0.6957514739229022\n",
            "99 th percentile is 0.79601179138322\n",
            "100 th percentile is 2.195918367346939\n"
          ],
          "name": "stdout"
        }
      ]
    },
    {
      "cell_type": "markdown",
      "metadata": {
        "id": "JbMb4Y0RaNoA",
        "colab_type": "text"
      },
      "source": [
        "<font size=4>Grader function 4 </font>"
      ]
    },
    {
      "cell_type": "code",
      "metadata": {
        "id": "UMoyLLSAaNoF",
        "colab_type": "code",
        "outputId": "e064a5eb-1485-4a43-fa63-947a9f209824",
        "colab": {
          "base_uri": "https://localhost:8080/",
          "height": 34
        }
      },
      "source": [
        "def grader_processed():\n",
        "    flag_columns = (all(X_train_processed.columns==['raw_data', 'duration'])) and (all(X_test_processed.columns==['raw_data', 'duration']))\n",
        "    flag_shape = (X_train_processed.shape ==(1400, 2)) and (X_test_processed.shape==(600,2))\n",
        "    return flag_columns and flag_shape\n",
        "grader_processed()"
      ],
      "execution_count": 0,
      "outputs": [
        {
          "output_type": "execute_result",
          "data": {
            "text/plain": [
              "True"
            ]
          },
          "metadata": {
            "tags": []
          },
          "execution_count": 39
        }
      ]
    },
    {
      "cell_type": "markdown",
      "metadata": {
        "id": "Cux3_jfcaNoM",
        "colab_type": "text"
      },
      "source": [
        "<pre>Based on our analysis 99 percentile values are less than 0.8sec so we will limit maximum length of X_train_processed and X_test_processed to 0.8 sec. It is similar to pad_sequence for a text dataset. \n",
        "\n",
        "While loading the audio files, we are using sampling rate of 22050 so one sec will give array of length 22050. so, our maximum length is 0.8*22050 = 17640\n",
        "\n",
        "Pad with Zero if length of sequence is less than 17640 else Truncate the number. \n",
        "\n",
        "Also create a masking vector for train and test. \n",
        "\n",
        "masking vector value = 1 if it is real value, 0 if it is pad value. Masking vector data type must be bool.\n",
        "</pre>"
      ]
    },
    {
      "cell_type": "code",
      "metadata": {
        "id": "voqSEyvcaNoO",
        "colab_type": "code",
        "colab": {}
      },
      "source": [
        "max_length  = 17640\n"
      ],
      "execution_count": 0,
      "outputs": []
    },
    {
      "cell_type": "code",
      "metadata": {
        "id": "UGIuTglKzzvv",
        "colab_type": "code",
        "outputId": "6012fabd-5cb6-40aa-aecc-060671010250",
        "colab": {
          "base_uri": "https://localhost:8080/",
          "height": 126
        }
      },
      "source": [
        "h=pd.DataFrame(h)\n",
        "h=h.transpose()\n",
        "h"
      ],
      "execution_count": 0,
      "outputs": [
        {
          "output_type": "execute_result",
          "data": {
            "text/html": [
              "<div>\n",
              "<style scoped>\n",
              "    .dataframe tbody tr th:only-of-type {\n",
              "        vertical-align: middle;\n",
              "    }\n",
              "\n",
              "    .dataframe tbody tr th {\n",
              "        vertical-align: top;\n",
              "    }\n",
              "\n",
              "    .dataframe thead th {\n",
              "        text-align: right;\n",
              "    }\n",
              "</style>\n",
              "<table border=\"1\" class=\"dataframe\">\n",
              "  <thead>\n",
              "    <tr style=\"text-align: right;\">\n",
              "      <th></th>\n",
              "      <th>0</th>\n",
              "      <th>1</th>\n",
              "      <th>2</th>\n",
              "      <th>3</th>\n",
              "      <th>4</th>\n",
              "      <th>5</th>\n",
              "      <th>6</th>\n",
              "      <th>7</th>\n",
              "      <th>8</th>\n",
              "      <th>9</th>\n",
              "      <th>10</th>\n",
              "      <th>11</th>\n",
              "      <th>12</th>\n",
              "      <th>13</th>\n",
              "      <th>14</th>\n",
              "      <th>15</th>\n",
              "      <th>16</th>\n",
              "      <th>17</th>\n",
              "      <th>18</th>\n",
              "      <th>19</th>\n",
              "      <th>20</th>\n",
              "      <th>21</th>\n",
              "      <th>22</th>\n",
              "      <th>23</th>\n",
              "      <th>24</th>\n",
              "      <th>25</th>\n",
              "      <th>26</th>\n",
              "      <th>27</th>\n",
              "      <th>28</th>\n",
              "      <th>29</th>\n",
              "      <th>30</th>\n",
              "      <th>31</th>\n",
              "      <th>32</th>\n",
              "      <th>33</th>\n",
              "      <th>34</th>\n",
              "      <th>35</th>\n",
              "      <th>36</th>\n",
              "      <th>37</th>\n",
              "      <th>38</th>\n",
              "      <th>39</th>\n",
              "      <th>...</th>\n",
              "      <th>7984</th>\n",
              "      <th>7985</th>\n",
              "      <th>7986</th>\n",
              "      <th>7987</th>\n",
              "      <th>7988</th>\n",
              "      <th>7989</th>\n",
              "      <th>7990</th>\n",
              "      <th>7991</th>\n",
              "      <th>7992</th>\n",
              "      <th>7993</th>\n",
              "      <th>7994</th>\n",
              "      <th>7995</th>\n",
              "      <th>7996</th>\n",
              "      <th>7997</th>\n",
              "      <th>7998</th>\n",
              "      <th>7999</th>\n",
              "      <th>8000</th>\n",
              "      <th>8001</th>\n",
              "      <th>8002</th>\n",
              "      <th>8003</th>\n",
              "      <th>8004</th>\n",
              "      <th>8005</th>\n",
              "      <th>8006</th>\n",
              "      <th>8007</th>\n",
              "      <th>8008</th>\n",
              "      <th>8009</th>\n",
              "      <th>8010</th>\n",
              "      <th>8011</th>\n",
              "      <th>8012</th>\n",
              "      <th>8013</th>\n",
              "      <th>8014</th>\n",
              "      <th>8015</th>\n",
              "      <th>8016</th>\n",
              "      <th>8017</th>\n",
              "      <th>8018</th>\n",
              "      <th>8019</th>\n",
              "      <th>8020</th>\n",
              "      <th>8021</th>\n",
              "      <th>8022</th>\n",
              "      <th>8023</th>\n",
              "    </tr>\n",
              "  </thead>\n",
              "  <tbody>\n",
              "    <tr>\n",
              "      <th>0</th>\n",
              "      <td>-0.000018</td>\n",
              "      <td>-0.000083</td>\n",
              "      <td>-0.000103</td>\n",
              "      <td>-0.000058</td>\n",
              "      <td>0.000013</td>\n",
              "      <td>0.000036</td>\n",
              "      <td>-0.000029</td>\n",
              "      <td>-0.000153</td>\n",
              "      <td>-0.000249</td>\n",
              "      <td>-0.000239</td>\n",
              "      <td>-0.000112</td>\n",
              "      <td>0.000073</td>\n",
              "      <td>0.000229</td>\n",
              "      <td>0.000299</td>\n",
              "      <td>0.000275</td>\n",
              "      <td>0.000185</td>\n",
              "      <td>0.000061</td>\n",
              "      <td>-0.00007</td>\n",
              "      <td>-0.00018</td>\n",
              "      <td>-0.000235</td>\n",
              "      <td>-0.000211</td>\n",
              "      <td>-0.000119</td>\n",
              "      <td>-0.000009</td>\n",
              "      <td>0.000057</td>\n",
              "      <td>0.000058</td>\n",
              "      <td>0.000026</td>\n",
              "      <td>0.00002</td>\n",
              "      <td>0.000075</td>\n",
              "      <td>0.000164</td>\n",
              "      <td>0.000221</td>\n",
              "      <td>0.0002</td>\n",
              "      <td>0.000113</td>\n",
              "      <td>0.000025</td>\n",
              "      <td>0.000007</td>\n",
              "      <td>0.000078</td>\n",
              "      <td>0.000201</td>\n",
              "      <td>0.000307</td>\n",
              "      <td>0.000345</td>\n",
              "      <td>0.000307</td>\n",
              "      <td>0.000221</td>\n",
              "      <td>...</td>\n",
              "      <td>-0.000285</td>\n",
              "      <td>-0.000272</td>\n",
              "      <td>-0.000308</td>\n",
              "      <td>-0.000372</td>\n",
              "      <td>-0.000412</td>\n",
              "      <td>-0.000398</td>\n",
              "      <td>-0.000348</td>\n",
              "      <td>-0.000305</td>\n",
              "      <td>-0.000293</td>\n",
              "      <td>-0.000287</td>\n",
              "      <td>-0.00024</td>\n",
              "      <td>-0.000134</td>\n",
              "      <td>-0.000004</td>\n",
              "      <td>0.000084</td>\n",
              "      <td>0.000085</td>\n",
              "      <td>0.000013</td>\n",
              "      <td>-0.000085</td>\n",
              "      <td>-0.000168</td>\n",
              "      <td>-0.000227</td>\n",
              "      <td>-0.000278</td>\n",
              "      <td>-0.000324</td>\n",
              "      <td>-0.000347</td>\n",
              "      <td>-0.000327</td>\n",
              "      <td>-0.00027</td>\n",
              "      <td>-0.000209</td>\n",
              "      <td>-0.000172</td>\n",
              "      <td>-0.000147</td>\n",
              "      <td>-0.000091</td>\n",
              "      <td>0.000031</td>\n",
              "      <td>0.000206</td>\n",
              "      <td>0.000378</td>\n",
              "      <td>0.000493</td>\n",
              "      <td>0.00054</td>\n",
              "      <td>0.000554</td>\n",
              "      <td>0.000568</td>\n",
              "      <td>0.000578</td>\n",
              "      <td>0.00054</td>\n",
              "      <td>0.00042</td>\n",
              "      <td>0.000235</td>\n",
              "      <td>0.0</td>\n",
              "    </tr>\n",
              "  </tbody>\n",
              "</table>\n",
              "<p>1 rows × 8024 columns</p>\n",
              "</div>"
            ],
            "text/plain": [
              "       0         1         2         3     ...     8020     8021      8022  8023\n",
              "0 -0.000018 -0.000083 -0.000103 -0.000058  ...  0.00054  0.00042  0.000235   0.0\n",
              "\n",
              "[1 rows x 8024 columns]"
            ]
          },
          "metadata": {
            "tags": []
          },
          "execution_count": 40
        }
      ]
    },
    {
      "cell_type": "code",
      "metadata": {
        "id": "SO9F_FfJlyoM",
        "colab_type": "code",
        "outputId": "764f3847-b488-4fbe-b657-0f4992afd50a",
        "colab": {
          "base_uri": "https://localhost:8080/",
          "height": 34
        }
      },
      "source": [
        "from tqdm import tqdm\n",
        "for i in tqdm(range(1,600)):\n",
        "  test2=test.loc[i]\n",
        "  test2=pd.DataFrame(test2)\n",
        "  test2=test2.transpose()\n",
        "  test1=test1.append(test2)"
      ],
      "execution_count": 0,
      "outputs": [
        {
          "output_type": "stream",
          "text": [
            "100%|██████████| 599/599 [00:16<00:00, 37.09it/s]\n"
          ],
          "name": "stderr"
        }
      ]
    },
    {
      "cell_type": "code",
      "metadata": {
        "id": "fDkoKzOlnrqR",
        "colab_type": "code",
        "colab": {}
      },
      "source": [
        "test1"
      ],
      "execution_count": 0,
      "outputs": []
    },
    {
      "cell_type": "code",
      "metadata": {
        "id": "9ES36pHt-6OD",
        "colab_type": "code",
        "outputId": "468c5138-d767-4e76-d48f-ca1d683dfe8b",
        "colab": {
          "base_uri": "https://localhost:8080/",
          "height": 34
        }
      },
      "source": [
        "from tqdm import tqdm\n",
        "for i in tqdm(range(1,1400)):\n",
        "  h1=a.loc[i]\n",
        "  h1=pd.DataFrame(h1)\n",
        "  h1=h1.transpose()\n",
        "  h=h.append(h1)"
      ],
      "execution_count": 0,
      "outputs": [
        {
          "output_type": "stream",
          "text": [
            "100%|██████████| 1399/1399 [02:26<00:00,  9.55it/s]\n"
          ],
          "name": "stderr"
        }
      ]
    },
    {
      "cell_type": "code",
      "metadata": {
        "id": "NGcTjPrXt81F",
        "colab_type": "code",
        "colab": {}
      },
      "source": [
        "h"
      ],
      "execution_count": 0,
      "outputs": []
    },
    {
      "cell_type": "code",
      "metadata": {
        "id": "wYT1oJpvnIHI",
        "colab_type": "code",
        "colab": {}
      },
      "source": [
        "l=[i for i in range(17640)]\n"
      ],
      "execution_count": 0,
      "outputs": []
    },
    {
      "cell_type": "code",
      "metadata": {
        "id": "MK5LHTNVnIKk",
        "colab_type": "code",
        "colab": {}
      },
      "source": [
        "f=h.iloc[:,l]"
      ],
      "execution_count": 0,
      "outputs": []
    },
    {
      "cell_type": "code",
      "metadata": {
        "id": "wlTL_nXntzC-",
        "colab_type": "code",
        "colab": {}
      },
      "source": [
        "ftest=test1.iloc[:,l]"
      ],
      "execution_count": 0,
      "outputs": []
    },
    {
      "cell_type": "code",
      "metadata": {
        "id": "4rZLdQjw2JNo",
        "colab_type": "code",
        "colab": {}
      },
      "source": [
        "h.to_csv('X_train_process.csv',index=False)"
      ],
      "execution_count": 0,
      "outputs": []
    },
    {
      "cell_type": "code",
      "metadata": {
        "id": "FuQu7AZw2bEk",
        "colab_type": "code",
        "colab": {}
      },
      "source": [
        "test1.to_csv('X_test_process.csv',index=False)"
      ],
      "execution_count": 0,
      "outputs": []
    },
    {
      "cell_type": "code",
      "metadata": {
        "id": "Ys9po3Cv26g0",
        "colab_type": "code",
        "outputId": "f7f6f994-7aad-4ab7-effb-82318b2371d9",
        "colab": {
          "base_uri": "https://localhost:8080/",
          "height": 52
        }
      },
      "source": [
        "ls"
      ],
      "execution_count": 0,
      "outputs": [
        {
          "output_type": "stream",
          "text": [
            " audio.csv                 \u001b[0m\u001b[01;34mrecordings\u001b[0m/          X_train_process.csv\n",
            "'Copy of recordings.zip'   X_test_process.csv\n"
          ],
          "name": "stdout"
        }
      ]
    },
    {
      "cell_type": "code",
      "metadata": {
        "id": "u_Be6p9HWEQ-",
        "colab_type": "code",
        "colab": {}
      },
      "source": [
        "f1=f.fillna(value=1000)\n",
        "ftest1=ftest.fillna(value=1000)"
      ],
      "execution_count": 0,
      "outputs": []
    },
    {
      "cell_type": "code",
      "metadata": {
        "id": "cTMYrmsKbPoS",
        "colab_type": "code",
        "colab": {}
      },
      "source": [
        "f2=f.fillna(value=0)\n",
        "ftest2=ftest.fillna(value=0)"
      ],
      "execution_count": 0,
      "outputs": []
    },
    {
      "cell_type": "code",
      "metadata": {
        "id": "J0d_I2G6WEj8",
        "colab_type": "code",
        "colab": {}
      },
      "source": [
        "f3=f1[0].apply(lambda x: 0 if x ==1000 else 1)\n",
        "f3=pd.DataFrame(f3)"
      ],
      "execution_count": 0,
      "outputs": []
    },
    {
      "cell_type": "code",
      "metadata": {
        "id": "nBqnqwaLvUuW",
        "colab_type": "code",
        "colab": {}
      },
      "source": [
        "ftest3=ftest1[0].apply(lambda x: 0 if x ==1000 else 1)\n",
        "ftest3=pd.DataFrame(ftest3)"
      ],
      "execution_count": 0,
      "outputs": []
    },
    {
      "cell_type": "code",
      "metadata": {
        "id": "ThcaIgHOwOdm",
        "colab_type": "code",
        "colab": {}
      },
      "source": [
        "ftest3"
      ],
      "execution_count": 0,
      "outputs": []
    },
    {
      "cell_type": "code",
      "metadata": {
        "id": "2hIyOBoXWFLL",
        "colab_type": "code",
        "outputId": "23e42141-55ec-4038-cdba-7d5ee14ee4ed",
        "colab": {
          "base_uri": "https://localhost:8080/",
          "height": 34
        }
      },
      "source": [
        "for i in tqdm(range(1,17640)):\n",
        "  m=f1[i].apply(lambda x: 0 if x ==1000 else 1)\n",
        "  f3[i]=m"
      ],
      "execution_count": 0,
      "outputs": [
        {
          "output_type": "stream",
          "text": [
            "100%|██████████| 17639/17639 [00:37<00:00, 472.67it/s]\n"
          ],
          "name": "stderr"
        }
      ]
    },
    {
      "cell_type": "code",
      "metadata": {
        "id": "O1cTyOSXvmuh",
        "colab_type": "code",
        "outputId": "9f4d92f8-040c-45f5-880a-863003dd604a",
        "colab": {
          "base_uri": "https://localhost:8080/",
          "height": 34
        }
      },
      "source": [
        "for i in tqdm(range(1,17640)):\n",
        "  m=ftest1[i].apply(lambda x: 0 if x ==1000 else 1)\n",
        "  ftest3[i]=m"
      ],
      "execution_count": 0,
      "outputs": [
        {
          "output_type": "stream",
          "text": [
            "100%|██████████| 17639/17639 [00:26<00:00, 663.52it/s]\n"
          ],
          "name": "stderr"
        }
      ]
    },
    {
      "cell_type": "code",
      "metadata": {
        "id": "uJctE3vyWFDv",
        "colab_type": "code",
        "outputId": "0442e35e-03b5-48c6-d35d-c24d2b9d8c15",
        "colab": {
          "base_uri": "https://localhost:8080/",
          "height": 156
        }
      },
      "source": [
        "f3.head(2)"
      ],
      "execution_count": 0,
      "outputs": [
        {
          "output_type": "execute_result",
          "data": {
            "text/html": [
              "<div>\n",
              "<style scoped>\n",
              "    .dataframe tbody tr th:only-of-type {\n",
              "        vertical-align: middle;\n",
              "    }\n",
              "\n",
              "    .dataframe tbody tr th {\n",
              "        vertical-align: top;\n",
              "    }\n",
              "\n",
              "    .dataframe thead th {\n",
              "        text-align: right;\n",
              "    }\n",
              "</style>\n",
              "<table border=\"1\" class=\"dataframe\">\n",
              "  <thead>\n",
              "    <tr style=\"text-align: right;\">\n",
              "      <th></th>\n",
              "      <th>0</th>\n",
              "      <th>1</th>\n",
              "      <th>2</th>\n",
              "      <th>3</th>\n",
              "      <th>4</th>\n",
              "      <th>5</th>\n",
              "      <th>6</th>\n",
              "      <th>7</th>\n",
              "      <th>8</th>\n",
              "      <th>9</th>\n",
              "      <th>10</th>\n",
              "      <th>11</th>\n",
              "      <th>12</th>\n",
              "      <th>13</th>\n",
              "      <th>14</th>\n",
              "      <th>15</th>\n",
              "      <th>16</th>\n",
              "      <th>17</th>\n",
              "      <th>18</th>\n",
              "      <th>19</th>\n",
              "      <th>20</th>\n",
              "      <th>21</th>\n",
              "      <th>22</th>\n",
              "      <th>23</th>\n",
              "      <th>24</th>\n",
              "      <th>25</th>\n",
              "      <th>26</th>\n",
              "      <th>27</th>\n",
              "      <th>28</th>\n",
              "      <th>29</th>\n",
              "      <th>30</th>\n",
              "      <th>31</th>\n",
              "      <th>32</th>\n",
              "      <th>33</th>\n",
              "      <th>34</th>\n",
              "      <th>35</th>\n",
              "      <th>36</th>\n",
              "      <th>37</th>\n",
              "      <th>38</th>\n",
              "      <th>39</th>\n",
              "      <th>...</th>\n",
              "      <th>17600</th>\n",
              "      <th>17601</th>\n",
              "      <th>17602</th>\n",
              "      <th>17603</th>\n",
              "      <th>17604</th>\n",
              "      <th>17605</th>\n",
              "      <th>17606</th>\n",
              "      <th>17607</th>\n",
              "      <th>17608</th>\n",
              "      <th>17609</th>\n",
              "      <th>17610</th>\n",
              "      <th>17611</th>\n",
              "      <th>17612</th>\n",
              "      <th>17613</th>\n",
              "      <th>17614</th>\n",
              "      <th>17615</th>\n",
              "      <th>17616</th>\n",
              "      <th>17617</th>\n",
              "      <th>17618</th>\n",
              "      <th>17619</th>\n",
              "      <th>17620</th>\n",
              "      <th>17621</th>\n",
              "      <th>17622</th>\n",
              "      <th>17623</th>\n",
              "      <th>17624</th>\n",
              "      <th>17625</th>\n",
              "      <th>17626</th>\n",
              "      <th>17627</th>\n",
              "      <th>17628</th>\n",
              "      <th>17629</th>\n",
              "      <th>17630</th>\n",
              "      <th>17631</th>\n",
              "      <th>17632</th>\n",
              "      <th>17633</th>\n",
              "      <th>17634</th>\n",
              "      <th>17635</th>\n",
              "      <th>17636</th>\n",
              "      <th>17637</th>\n",
              "      <th>17638</th>\n",
              "      <th>17639</th>\n",
              "    </tr>\n",
              "  </thead>\n",
              "  <tbody>\n",
              "    <tr>\n",
              "      <th>0</th>\n",
              "      <td>1</td>\n",
              "      <td>1</td>\n",
              "      <td>1</td>\n",
              "      <td>1</td>\n",
              "      <td>1</td>\n",
              "      <td>1</td>\n",
              "      <td>1</td>\n",
              "      <td>1</td>\n",
              "      <td>1</td>\n",
              "      <td>1</td>\n",
              "      <td>1</td>\n",
              "      <td>1</td>\n",
              "      <td>1</td>\n",
              "      <td>1</td>\n",
              "      <td>1</td>\n",
              "      <td>1</td>\n",
              "      <td>1</td>\n",
              "      <td>1</td>\n",
              "      <td>1</td>\n",
              "      <td>1</td>\n",
              "      <td>1</td>\n",
              "      <td>1</td>\n",
              "      <td>1</td>\n",
              "      <td>1</td>\n",
              "      <td>1</td>\n",
              "      <td>1</td>\n",
              "      <td>1</td>\n",
              "      <td>1</td>\n",
              "      <td>1</td>\n",
              "      <td>1</td>\n",
              "      <td>1</td>\n",
              "      <td>1</td>\n",
              "      <td>1</td>\n",
              "      <td>1</td>\n",
              "      <td>1</td>\n",
              "      <td>1</td>\n",
              "      <td>1</td>\n",
              "      <td>1</td>\n",
              "      <td>1</td>\n",
              "      <td>1</td>\n",
              "      <td>...</td>\n",
              "      <td>0</td>\n",
              "      <td>0</td>\n",
              "      <td>0</td>\n",
              "      <td>0</td>\n",
              "      <td>0</td>\n",
              "      <td>0</td>\n",
              "      <td>0</td>\n",
              "      <td>0</td>\n",
              "      <td>0</td>\n",
              "      <td>0</td>\n",
              "      <td>0</td>\n",
              "      <td>0</td>\n",
              "      <td>0</td>\n",
              "      <td>0</td>\n",
              "      <td>0</td>\n",
              "      <td>0</td>\n",
              "      <td>0</td>\n",
              "      <td>0</td>\n",
              "      <td>0</td>\n",
              "      <td>0</td>\n",
              "      <td>0</td>\n",
              "      <td>0</td>\n",
              "      <td>0</td>\n",
              "      <td>0</td>\n",
              "      <td>0</td>\n",
              "      <td>0</td>\n",
              "      <td>0</td>\n",
              "      <td>0</td>\n",
              "      <td>0</td>\n",
              "      <td>0</td>\n",
              "      <td>0</td>\n",
              "      <td>0</td>\n",
              "      <td>0</td>\n",
              "      <td>0</td>\n",
              "      <td>0</td>\n",
              "      <td>0</td>\n",
              "      <td>0</td>\n",
              "      <td>0</td>\n",
              "      <td>0</td>\n",
              "      <td>0</td>\n",
              "    </tr>\n",
              "    <tr>\n",
              "      <th>0</th>\n",
              "      <td>1</td>\n",
              "      <td>1</td>\n",
              "      <td>1</td>\n",
              "      <td>1</td>\n",
              "      <td>1</td>\n",
              "      <td>1</td>\n",
              "      <td>1</td>\n",
              "      <td>1</td>\n",
              "      <td>1</td>\n",
              "      <td>1</td>\n",
              "      <td>1</td>\n",
              "      <td>1</td>\n",
              "      <td>1</td>\n",
              "      <td>1</td>\n",
              "      <td>1</td>\n",
              "      <td>1</td>\n",
              "      <td>1</td>\n",
              "      <td>1</td>\n",
              "      <td>1</td>\n",
              "      <td>1</td>\n",
              "      <td>1</td>\n",
              "      <td>1</td>\n",
              "      <td>1</td>\n",
              "      <td>1</td>\n",
              "      <td>1</td>\n",
              "      <td>1</td>\n",
              "      <td>1</td>\n",
              "      <td>1</td>\n",
              "      <td>1</td>\n",
              "      <td>1</td>\n",
              "      <td>1</td>\n",
              "      <td>1</td>\n",
              "      <td>1</td>\n",
              "      <td>1</td>\n",
              "      <td>1</td>\n",
              "      <td>1</td>\n",
              "      <td>1</td>\n",
              "      <td>1</td>\n",
              "      <td>1</td>\n",
              "      <td>1</td>\n",
              "      <td>...</td>\n",
              "      <td>0</td>\n",
              "      <td>0</td>\n",
              "      <td>0</td>\n",
              "      <td>0</td>\n",
              "      <td>0</td>\n",
              "      <td>0</td>\n",
              "      <td>0</td>\n",
              "      <td>0</td>\n",
              "      <td>0</td>\n",
              "      <td>0</td>\n",
              "      <td>0</td>\n",
              "      <td>0</td>\n",
              "      <td>0</td>\n",
              "      <td>0</td>\n",
              "      <td>0</td>\n",
              "      <td>0</td>\n",
              "      <td>0</td>\n",
              "      <td>0</td>\n",
              "      <td>0</td>\n",
              "      <td>0</td>\n",
              "      <td>0</td>\n",
              "      <td>0</td>\n",
              "      <td>0</td>\n",
              "      <td>0</td>\n",
              "      <td>0</td>\n",
              "      <td>0</td>\n",
              "      <td>0</td>\n",
              "      <td>0</td>\n",
              "      <td>0</td>\n",
              "      <td>0</td>\n",
              "      <td>0</td>\n",
              "      <td>0</td>\n",
              "      <td>0</td>\n",
              "      <td>0</td>\n",
              "      <td>0</td>\n",
              "      <td>0</td>\n",
              "      <td>0</td>\n",
              "      <td>0</td>\n",
              "      <td>0</td>\n",
              "      <td>0</td>\n",
              "    </tr>\n",
              "  </tbody>\n",
              "</table>\n",
              "<p>2 rows × 17640 columns</p>\n",
              "</div>"
            ],
            "text/plain": [
              "   0      1      2      3      4      ...  17635  17636  17637  17638  17639\n",
              "0      1      1      1      1      1  ...      0      0      0      0      0\n",
              "0      1      1      1      1      1  ...      0      0      0      0      0\n",
              "\n",
              "[2 rows x 17640 columns]"
            ]
          },
          "metadata": {
            "tags": []
          },
          "execution_count": 68
        }
      ]
    },
    {
      "cell_type": "code",
      "metadata": {
        "id": "kX4l-VZzWE87",
        "colab_type": "code",
        "colab": {}
      },
      "source": [
        "f4=np.array(f3)"
      ],
      "execution_count": 0,
      "outputs": []
    },
    {
      "cell_type": "code",
      "metadata": {
        "id": "4Br0845IxK37",
        "colab_type": "code",
        "colab": {}
      },
      "source": [
        "ftest4=np.array(ftest3)"
      ],
      "execution_count": 0,
      "outputs": []
    },
    {
      "cell_type": "code",
      "metadata": {
        "id": "WxZgqjh6jeR9",
        "colab_type": "code",
        "colab": {}
      },
      "source": [
        "X_train_mask=f4.astype(bool)"
      ],
      "execution_count": 0,
      "outputs": []
    },
    {
      "cell_type": "code",
      "metadata": {
        "id": "8ayeDig7xV2M",
        "colab_type": "code",
        "colab": {}
      },
      "source": [
        "X_test_mask=ftest4.astype(bool)"
      ],
      "execution_count": 0,
      "outputs": []
    },
    {
      "cell_type": "code",
      "metadata": {
        "id": "BamOjiAFxkYl",
        "colab_type": "code",
        "outputId": "6ed07aa6-60a6-4325-c268-6fdc16f41dc8",
        "colab": {
          "base_uri": "https://localhost:8080/",
          "height": 34
        }
      },
      "source": [
        "X_test_mask.shape"
      ],
      "execution_count": 0,
      "outputs": [
        {
          "output_type": "execute_result",
          "data": {
            "text/plain": [
              "(600, 17640)"
            ]
          },
          "metadata": {
            "tags": []
          },
          "execution_count": 89
        }
      ]
    },
    {
      "cell_type": "code",
      "metadata": {
        "id": "wdcE45DbjePS",
        "colab_type": "code",
        "colab": {}
      },
      "source": [
        "X_train_pad_seq=np.array(f2)"
      ],
      "execution_count": 0,
      "outputs": []
    },
    {
      "cell_type": "code",
      "metadata": {
        "id": "sQZKzHiljeKV",
        "colab_type": "code",
        "outputId": "b8f290f8-9d75-426e-ad6d-fac3ff89ccba",
        "colab": {
          "base_uri": "https://localhost:8080/",
          "height": 247
        }
      },
      "source": [
        "X_train_pad_seq"
      ],
      "execution_count": 0,
      "outputs": [
        {
          "output_type": "execute_result",
          "data": {
            "text/plain": [
              "array([[-1.8207456e-05, -8.3380328e-05, -1.0331021e-04, ...,\n",
              "         0.0000000e+00,  0.0000000e+00,  0.0000000e+00],\n",
              "       [ 9.6588104e-05,  1.2566414e-04,  1.6156163e-04, ...,\n",
              "         0.0000000e+00,  0.0000000e+00,  0.0000000e+00],\n",
              "       [-2.7579028e-04, -3.1114486e-04, -2.9267499e-04, ...,\n",
              "         0.0000000e+00,  0.0000000e+00,  0.0000000e+00],\n",
              "       ...,\n",
              "       [ 8.8011177e-04,  2.1689532e-03,  1.3123847e-03, ...,\n",
              "         0.0000000e+00,  0.0000000e+00,  0.0000000e+00],\n",
              "       [ 2.7870707e-04,  1.2193198e-04, -1.1855508e-04, ...,\n",
              "         0.0000000e+00,  0.0000000e+00,  0.0000000e+00],\n",
              "       [-2.4562603e-04, -2.4711856e-04, -2.0244851e-04, ...,\n",
              "         0.0000000e+00,  0.0000000e+00,  0.0000000e+00]], dtype=float32)"
            ]
          },
          "metadata": {
            "tags": []
          },
          "execution_count": 77
        }
      ]
    },
    {
      "cell_type": "code",
      "metadata": {
        "id": "a0jTbYBcjeFV",
        "colab_type": "code",
        "colab": {}
      },
      "source": [
        "X_test_pad_seq=np.array(ftest2)"
      ],
      "execution_count": 0,
      "outputs": []
    },
    {
      "cell_type": "code",
      "metadata": {
        "id": "p6mRY7XiWE4e",
        "colab_type": "code",
        "outputId": "8ba3ad04-13ea-40b3-baac-ccd458b5ff79",
        "colab": {
          "base_uri": "https://localhost:8080/",
          "height": 34
        }
      },
      "source": [
        "X_test_pad_seq.shape"
      ],
      "execution_count": 0,
      "outputs": [
        {
          "output_type": "execute_result",
          "data": {
            "text/plain": [
              "(600, 17640)"
            ]
          },
          "metadata": {
            "tags": []
          },
          "execution_count": 80
        }
      ]
    },
    {
      "cell_type": "code",
      "metadata": {
        "id": "B1-_r20BaNoW",
        "colab_type": "code",
        "colab": {}
      },
      "source": [
        "## as discussed above, Pad with Zero if length of sequence is less than 17640 else Truncate the number. \n",
        "## save in the X_train_pad_seq, X_test_pad_seq\n",
        "## also Create masking vector X_train_mask, X_test_mask\n",
        "\n",
        "## all the X_train_pad_seq, X_test_pad_seq, X_train_mask, X_test_mask will be numpy arrays mask vector dtype must be bool."
      ],
      "execution_count": 0,
      "outputs": []
    },
    {
      "cell_type": "markdown",
      "metadata": {
        "id": "zEHMgm4DaNoe",
        "colab_type": "text"
      },
      "source": [
        "<font size=4>Grader function 5 </font>"
      ]
    },
    {
      "cell_type": "code",
      "metadata": {
        "id": "Th3KhplGaNof",
        "colab_type": "code",
        "outputId": "1b5f5109-cd6e-42d4-a735-14f448d17285",
        "colab": {
          "base_uri": "https://localhost:8080/",
          "height": 34
        }
      },
      "source": [
        "def grader_padoutput():\n",
        "    flag_padshape = (X_train_pad_seq.shape==(1400, 17640)) and (X_test_pad_seq.shape==(600, 17640)) and (y_train.shape==(1400,))\n",
        "    flag_maskshape = (X_train_mask.shape==(1400, 17640)) and (X_test_mask.shape==(600, 17640)) and (y_test.shape==(600,))\n",
        "    flag_dtype = (X_train_mask.dtype==bool) and (X_test_mask.dtype==bool)\n",
        "    return flag_padshape and flag_maskshape and flag_dtype\n",
        "grader_padoutput()"
      ],
      "execution_count": 0,
      "outputs": [
        {
          "output_type": "execute_result",
          "data": {
            "text/plain": [
              "True"
            ]
          },
          "metadata": {
            "tags": []
          },
          "execution_count": 91
        }
      ]
    },
    {
      "cell_type": "code",
      "metadata": {
        "id": "ubwUQjVVyjul",
        "colab_type": "code",
        "colab": {}
      },
      "source": [
        ""
      ],
      "execution_count": 0,
      "outputs": []
    },
    {
      "cell_type": "markdown",
      "metadata": {
        "id": "K0kaYQ1jaNop",
        "colab_type": "text"
      },
      "source": [
        "### 1. Giving Raw data directly. "
      ]
    },
    {
      "cell_type": "markdown",
      "metadata": {
        "id": "xGHxh3jTaNoq",
        "colab_type": "text"
      },
      "source": [
        "<pre>\n",
        "Now we have\n",
        "\n",
        "Train data: X_train_pad_seq, X_train_mask and y_train  \n",
        "Test data: X_test_pad_seq, X_test_mask and y_test   \n",
        "\n",
        "We will create a LSTM model which takes this input. \n",
        "\n",
        "Task:\n",
        "\n",
        "1. Create an LSTM network which takes \"X_train_pad_seq\" as input, \"X_train_mask\" as mask input. You can use any number of LSTM cells. Please read LSTM documentation(https://www.tensorflow.org/api_docs/python/tf/keras/layers/LSTM) in tensorflow to know more about mask and also https://www.tensorflow.org/guide/keras/masking_and_padding \n",
        "2. Get the final output of the LSTM and give it to Dense layer of any size and then give it to Dense layer of size 10(because we have 10 outputs) and then compile with the sparse categorical cross entropy( because we are not converting it to one hot vectors). \n",
        "3. Use tensorboard to plot the graphs of loss and metric(use micro F1 score as metric) and histograms of gradients. \n",
        "4. make sure that it won't overfit. \n",
        "5. You are free to include any regularization\n",
        "</pre>"
      ]
    },
    {
      "cell_type": "code",
      "metadata": {
        "id": "X8yg951AaNor",
        "colab_type": "code",
        "colab": {}
      },
      "source": [
        "from tensorflow.keras.layers import Input, LSTM, Dense\n",
        "from tensorflow.keras.models import Model\n",
        "import tensorflow as tf"
      ],
      "execution_count": 0,
      "outputs": []
    },
    {
      "cell_type": "code",
      "metadata": {
        "id": "d8y1sgeVaNoy",
        "colab_type": "code",
        "colab": {}
      },
      "source": [
        "## as discussed above, please write the LSTM\n"
      ],
      "execution_count": 0,
      "outputs": []
    },
    {
      "cell_type": "code",
      "metadata": {
        "id": "RPj_DGW2aNo9",
        "colab_type": "code",
        "outputId": "698a7b18-52e0-4e9c-e03e-680953293bd4",
        "colab": {}
      },
      "source": [
        "model.summary()"
      ],
      "execution_count": 0,
      "outputs": [
        {
          "output_type": "stream",
          "text": [
            "Model: \"model\"\n",
            "__________________________________________________________________________________________________\n",
            "Layer (type)                    Output Shape         Param #     Connected to                     \n",
            "==================================================================================================\n",
            "input_layer (InputLayer)        [(None, 17640, 1)]   0                                            \n",
            "__________________________________________________________________________________________________\n",
            "input_mask (InputLayer)         [(None, 17640)]      0                                            \n",
            "__________________________________________________________________________________________________\n",
            "LSTM_layer (LSTM)               (None, 25)           2700        input_layer[0][0]                \n",
            "__________________________________________________________________________________________________\n",
            "dense (Dense)                   (None, 50)           1300        LSTM_layer[0][0]                 \n",
            "__________________________________________________________________________________________________\n",
            "dense_1 (Dense)                 (None, 10)           510         dense[0][0]                      \n",
            "==================================================================================================\n",
            "Total params: 4,510\n",
            "Trainable params: 4,510\n",
            "Non-trainable params: 0\n",
            "__________________________________________________________________________________________________\n"
          ],
          "name": "stdout"
        }
      ]
    },
    {
      "cell_type": "code",
      "metadata": {
        "id": "MzpPjxvHaNpJ",
        "colab_type": "code",
        "colab": {}
      },
      "source": [
        "#train your model"
      ],
      "execution_count": 0,
      "outputs": []
    },
    {
      "cell_type": "markdown",
      "metadata": {
        "id": "2Fwk0X4zaNpR",
        "colab_type": "text"
      },
      "source": [
        "### 2. Converting into spectrogram and giving spectrogram data as input  \n",
        "<pre>\n",
        "We can use librosa to convert raw data into spectrogram. A spectrogram shows the features in a two-dimensional representation with the\n",
        "intensity of a frequency at a point in time i.e we are converting Time domain to frequency domain. you can read more about this in https://pnsn.org/spectrograms/what-is-a-spectrogram\n",
        "</pre>"
      ]
    },
    {
      "cell_type": "code",
      "metadata": {
        "id": "nb5AGzTjaNpS",
        "colab_type": "code",
        "colab": {}
      },
      "source": [
        "def convert_to_spectrogram(raw_data):\n",
        "    '''converting to spectrogram'''\n",
        "    spectrum = librosa.feature.melspectrogram(y=raw_data, sr=sample_rate, n_mels=64)\n",
        "    logmel_spectrum = librosa.power_to_db(S=spectrum, ref=np.max)\n",
        "    return logmel_spectrum"
      ],
      "execution_count": 0,
      "outputs": []
    },
    {
      "cell_type": "code",
      "metadata": {
        "id": "B__rN4RjaNpc",
        "colab_type": "code",
        "colab": {}
      },
      "source": [
        "##use convert_to_spectrogram and convert every raw sequence in X_train_pad_seq and X_test_pad-seq.\n",
        "## save those all in the X_train_spectrogram and X_test_spectrogram ( These two arrays must be numpy arrays)\n"
      ],
      "execution_count": 0,
      "outputs": []
    },
    {
      "cell_type": "markdown",
      "metadata": {
        "id": "zr1ynYZnaNpj",
        "colab_type": "text"
      },
      "source": [
        "<font size=4>Grader function 6 </font>"
      ]
    },
    {
      "cell_type": "code",
      "metadata": {
        "id": "oniXBXcsaNpk",
        "colab_type": "code",
        "outputId": "0f94ec35-98af-4b98-c501-35cbbfbd0a2e",
        "colab": {}
      },
      "source": [
        "def grader_spectrogram():\n",
        "    flag_shape = (X_train_spectrogram.shape==(1400,64, 35)) and (X_test_spectrogram.shape == (600, 64, 35))\n",
        "    return flag_shape\n",
        "grader_spectrogram()"
      ],
      "execution_count": 0,
      "outputs": [
        {
          "output_type": "execute_result",
          "data": {
            "text/plain": [
              "True"
            ]
          },
          "metadata": {
            "tags": []
          },
          "execution_count": 28
        }
      ]
    },
    {
      "cell_type": "markdown",
      "metadata": {
        "id": "xxlEVyIYaNpt",
        "colab_type": "text"
      },
      "source": [
        "<pre>\n",
        "Now we have\n",
        "\n",
        "Train data: X_train_spectrogram and y_train  \n",
        "Test data: X_test_spectrogram and y_test   \n",
        "\n",
        "We will create a LSTM model which takes this input. \n",
        "\n",
        "Task:\n",
        "\n",
        "1. Create an LSTM network which takes \"X_train_spectrogram\" as input and has to return output at every time step. \n",
        "2. Average the output of every time step and give this to the Dense layer of any size. \n",
        "3. give the above output to Dense layer of size 10( output layer) and train the network with sparse categorical cross entropy.  \n",
        "4. Use tensorboard to plot the graphs of loss and metric(use micro F1 score as metric) and histograms of gradients. \n",
        "5. make sure that it won't overfit. \n",
        "6. You are free to include any regularization\n",
        "</pre>"
      ]
    },
    {
      "cell_type": "code",
      "metadata": {
        "id": "IaQjaiiGaNpv",
        "colab_type": "code",
        "colab": {}
      },
      "source": [
        ""
      ],
      "execution_count": 0,
      "outputs": []
    },
    {
      "cell_type": "code",
      "metadata": {
        "id": "862fP2e-aNp3",
        "colab_type": "code",
        "colab": {}
      },
      "source": [
        ""
      ],
      "execution_count": 0,
      "outputs": []
    },
    {
      "cell_type": "code",
      "metadata": {
        "id": "VtMsbGs3aNp_",
        "colab_type": "code",
        "colab": {}
      },
      "source": [
        ""
      ],
      "execution_count": 0,
      "outputs": []
    },
    {
      "cell_type": "markdown",
      "metadata": {
        "id": "aSl8ZOXjaNqJ",
        "colab_type": "text"
      },
      "source": [
        "### 3. data augmentation  \n",
        "<pre>\n",
        "Till now we have done with 2000 samples only. It is very less data. We are giving the process of generating augmented data below.\n",
        "\n",
        "There are two types of augmentation:\n",
        "1. time stretching - Time stretching either increases or decreases the length of the file. For time stretching we move the file 30% faster or slower\n",
        "2. pitch shifting - pitch shifting moves the frequencies higher or lower. For pitch shifting we shift up or down one half-step.\n",
        "</pre>"
      ]
    },
    {
      "cell_type": "code",
      "metadata": {
        "id": "jR4JSEDgaNqK",
        "colab_type": "code",
        "colab": {}
      },
      "source": [
        "## generating augmented data. \n",
        "def generate_augmented_data(file_path):\n",
        "    augmented_data = []\n",
        "    samples = load_wav(file_path,get_duration=False)\n",
        "    for time_value in [0.7, 1, 1.3]:\n",
        "        for pitch_value in [-1, 0, 1]:\n",
        "            time_stretch_data = librosa.effects.time_stretch(samples, rate=time_value)\n",
        "            final_data = librosa.effects.pitch_shift(time_stretch_data, sr=sample_rate, n_steps=pitch_value)\n",
        "            augmented_data.append(final_data)\n",
        "    return augmented_data"
      ],
      "execution_count": 0,
      "outputs": []
    },
    {
      "cell_type": "code",
      "metadata": {
        "id": "QRdefb-SaNqS",
        "colab_type": "code",
        "colab": {}
      },
      "source": [
        "temp_path = df_audio.iloc[0].path\n",
        "aug_temp = generate_augmented_data(temp_path)"
      ],
      "execution_count": 0,
      "outputs": []
    },
    {
      "cell_type": "code",
      "metadata": {
        "id": "kzdG3iS-aNqc",
        "colab_type": "code",
        "outputId": "0f17e45e-63a0-4986-8f69-05e2dbd71bac",
        "colab": {}
      },
      "source": [
        "len(aug_temp)"
      ],
      "execution_count": 0,
      "outputs": [
        {
          "output_type": "execute_result",
          "data": {
            "text/plain": [
              "9"
            ]
          },
          "metadata": {
            "tags": []
          },
          "execution_count": 31
        }
      ]
    },
    {
      "cell_type": "markdown",
      "metadata": {
        "id": "ZckytZsraNqk",
        "colab_type": "text"
      },
      "source": [
        "As discussed above, for one data point, we will get 9 augmented data points.  \n",
        "We have 2000 data points(train plus test) so, after augmentation we will get 18000 ( train - 12600, test - 5400). \n",
        "\n",
        "do the above steps i.e training with raw data and spectrogram data with augmentation."
      ]
    },
    {
      "cell_type": "code",
      "metadata": {
        "id": "AdKXVRlpaNql",
        "colab_type": "code",
        "colab": {}
      },
      "source": [
        ""
      ],
      "execution_count": 0,
      "outputs": []
    }
  ]
}